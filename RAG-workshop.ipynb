{
 "cells": [
  {
   "cell_type": "markdown",
   "id": "c915a1c9",
   "metadata": {},
   "source": [
    "# Retrieval‑Augmented Generation (RAG) Workshop & Notebook Guide  \n",
    "*A step‑by‑step companion for developers new to GenAI*"
   ]
  },
  {
   "cell_type": "markdown",
   "id": "d8811f5c",
   "metadata": {},
   "source": [
    "## 0  |  Purpose of this Notebook\n",
    "\n",
    "The goal of the workshop is to **contrast “plain prompting” with Retrieval‑Augmented Generation (RAG)** and let you experience, hands‑on, how adding a retrieval step and function‑calling tools makes GPT‑4o‑mini:\n",
    "\n",
    "* **more accurate** (grounded answers, fewer hallucinations)  \n",
    "* **faster & cheaper** on larger corpora  \n",
    "* **deterministic** when you need it (e.g. function calls)"
   ]
  },
  {
   "cell_type": "markdown",
   "id": "c0179bf8",
   "metadata": {},
   "source": [
    "## 1  |  Getting Ready\n",
    "\n",
    "| What | Why |\n",
    "|------|-----|\n",
    "| **Python ≥ 3.10** | required by LangChain 0.2+ |\n",
    "| **OpenAI account & `OPENAI_API_KEY`** | to access `gpt‑4o‑mini` |\n",
    "| **Packages** | `pip install -r requirements.txt` |\n",
    "| **Workshop data** | 50 short markdown files (≈ 90 kB total) provided in `/data/docs/` |\n",
    "\n",
    "Clone the repo or pull the zipped folder, then open **`RAG‑workshop.ipynb`** in Jupyter or VS Code."
   ]
  },
  {
   "cell_type": "code",
   "execution_count": null,
   "id": "4ce25e8e",
   "metadata": {},
   "outputs": [],
   "source": [
    "# Run tot install python packages.\n",
    "%pip install -r requirements.txt"
   ]
  },
  {
   "cell_type": "code",
   "execution_count": 15,
   "id": "9960f694",
   "metadata": {},
   "outputs": [
    {
     "name": "stdout",
     "output_type": "stream",
     "text": [
      "Sure! Here’s \"Hello world\" in five different languages:\n",
      "\n",
      "1. Spanish: ¡Hola, mundo!\n",
      "2. French: Bonjour, le monde !\n",
      "3. German: Hallo, Welt!\n",
      "4. Italian: Ciao, mondo!\n",
      "5. Japanese: こんにちは、世界！ (Konnichiwa, sekai!)\n"
     ]
    }
   ],
   "source": [
    "#Prompting API example.\n",
    "from utils import gpt_4o_mini\n",
    "\n",
    "query = \"Say 'Hello world' in five different languages.\"\n",
    "print(gpt_4o_mini(query))"
   ]
  },
  {
   "cell_type": "markdown",
   "id": "a03d1926",
   "metadata": {},
   "source": [
    "### 1.2. Baseline data, CEO addresses and interviews\n"
   ]
  },
  {
   "cell_type": "code",
   "execution_count": 1,
   "id": "ab65005e",
   "metadata": {},
   "outputs": [
    {
     "name": "stdout",
     "output_type": "stream",
     "text": [
      "Firm:data/docs\\CGI.txt \n",
      "Text:1. Corporate Overview\n",
      "1.1. ABOUT CGI\n",
      "\n",
      "Founded in 1976 and headquartered in Montréal, Canada, CGI is a leading IT and business consulting services firm with\n",
      "approximately 90,250 consultants and professionals worldwide. We use the power of technology to help clients accelerate\n",
      "their holistic digital transformation.\n",
      "\n",
      "CGI has a people-centered culture, operating where our clients live and work to build trusted relationships and to advance our\n",
      "shared communities. Our consultants and professionals are committed to providing actionable insights that help clients\n",
      "achieve their business outcomes. CGI’s global delivery centers complement our proximity-based teams, offering clients added\n",
      "options that deliver scale, innovation and delivery excellence in every engagement.\n",
      "\n",
      "End-to-end services and solutions\n",
      "\n",
      "CGI delivers end-to-end services that help clients achieve the highest returns on their digital investments. We call this ROI-led\n",
      "digitization. Our insights-driven end-to-end services and solutions work together to help clients design, implement, run and\n",
      "operate the technology critical to achieving their business strategies. Our portfolio encompasses:\n",
      "\n",
      "i. Business and strategic IT consulting, and systems integration services: CGI helps clients drive sustainable\n",
      "value in critical consulting areas, including strategy, organization and change management, core operations and\n",
      "technology. Within each of these areas, our consultants also deliver a broad range of business offerings to address\n",
      "client executives' priorities, including designing and advancing strategies for the responsible use of artificial\n",
      "intelligence (AI), sustainable supply chain management, environmental, social and governance (ESG), mergers and\n",
      "acquisitions, and more. In the area of systems integration, we help clients accelerate the enterprise modernization\n",
      "of their legacy systems and adopt new technologies to drive innovation and deliver real-time and insight-driven\n",
      "customer and citizen services.\n",
      "\n",
      "ii. Managed IT and business process services: Working as an extension of our clients’ organizations, we take on\n",
      "full or partial responsibility for managing their IT functions, freeing them up to focus on their strategic business\n",
      "direction. Our services enable clients to reinvest, alongside CGI, in the successful execution of their digital\n",
      "transformation roadmaps. We help them increase agility, scalability and resilience; deliver operational efficiencies,\n",
      "innovations and reduced costs; and embed security and data privacy controls. Typical services include: application\n",
      "development, modernization and maintenance; holistic enterprise digitization, automation, hybrid and cloud\n",
      "management; and business process services.\n",
      "\n",
      "iii. Intellectual property (IP) business solutions: CGI's portfolio of IP solutions are highly configurable “business\n",
      "platforms as a service” that are embedded within our end-to-end service offerings and utilize integrated security,\n",
      "data privacy practices, provider-neutral cloud approaches, and advanced AI capabilities to provide immediate\n",
      "benefits to clients. We invest in, and deliver, market-leading IP to drive business outcomes within each of our target\n",
      "industries. We also collaborate with clients to build and evolve IP-based solutions while enabling a higher degree of\n",
      "flexibility and customization for their unique modernization and digitization needs.\n",
      "\n",
      "Deep industry and technology expertise\n",
      "\n",
      "CGI has long-standing and focused practices in all of its core industries, providing clients with a partner that is not only an\n",
      "expert in IT, but also an expert in their respective industries. This combination of business knowledge and digital technology\n",
      "expertise allows us to help our clients navigate complex challenges and focus on value creation. In the process, we evolve the\n",
      "services and solutions we deliver within our targeted industries and provide thought leadership, blueprints, frameworks and\n",
      "technical accelerators that help client evolve their ecosystems.\n",
      "\n",
      "Our targeted industries include financial services (including banking and insurance), government (including space),\n",
      "manufacturing, retail and distribution (including consumer services, transportation and logistics), communications and utilities\n",
      "(including energy and media), and health (including life sciences). To help orchestrate our global posture across these\n",
      "industries, our leaders regularly participate in cabinet meetings and councils to advance the strategies, services and solutions\n",
      "we deliver to our clients.\n",
      "Management’s Discussion and Analysis | For the years ended September 30, 2024 and 2023\n",
      "© 2024 CGI Inc. Page 9\n",
      "FISCAL 2024 RESULTS — 9\n",
      "\n",
      "Helping clients leverage technology to its fullest\n",
      "\n",
      "Macro trends such as supply chain reconfiguration, climate change and energy transition, and demographic shifts including\n",
      "aging populations and talent shortages require new business models and ways of working. At the same time, technology is\n",
      "reshaping our future and creating new opportunities.\n",
      "\n",
      "Accelerating digitization provides the inclusive, economically vibrant, and sustainable future our clients’ customers and citizens\n",
      "demand. Leveraging technology to its fullest helps clients to lead within their industries. Our end-to-end digital services,\n",
      "industry and technology expertise, and operational excellence combine to help clients advance their holistic digital\n",
      "transformation.\n",
      "\n",
      "Through our proprietary Voice of Our Clients research, we analyzed the characteristics of leading digital organizations and\n",
      "found these common attributes:\n",
      "\n",
      "• Strategic alignment and business agility: Digital leaders have highly agile business models to address digitization\n",
      "and are better at aligning and integrating business and IT operations to support and execute strategy.\n",
      "• Digitization: They have mature strategies to leverage data and digitization to achieve business model resilience, are\n",
      "less challenged by legacy systems, and extend their digitization strategy to their external ecosystem.\n",
      "• Data, automation and AI: They adopt a holistic data strategy for the enterprise and ecosystem and have a higher\n",
      "rate of being in progress with or having implemented both traditional and generative AI.\n",
      "• Data privacy and protection: They produce greater results from their data privacy and protection strategy, which\n",
      "also extends to their external ecosystem. Their cybersecurity programs are highly mature in terms of connected\n",
      "assets.\n",
      "\n",
      "Digital leaders across industries seek new ways to evolve their strategy and operational models and use technology and\n",
      "information to improve how they operate, deliver products and services, and create value.\n",
      "\n",
      "CGI helps clients adopt leading digital attributes and design, manage, protect and evolve their digital value chains to\n",
      "accelerate business outcomes.\n",
      "\n",
      "Quality processes\n",
      "\n",
      "Our clients expect consistent service wherever and whenever they engage us. We have an outstanding track record of on time, within-budget delivery as a result of our commitment to excellence and our robust governance model - CGI's\n",
      "Management Foundation.\n",
      "\n",
      "Our Management Foundation provides a common business language, frameworks and practices for managing operations\n",
      "consistently across the globe, driving continuous improvement. We also invest in rigorous quality and service delivery\n",
      "standards including the International Organization for Standardization (ISO) and Capability Maturity Model Integration (CMMI)\n",
      "certification programs, as well as a comprehensive Client Satisfaction Assessment Program, with signed client assessments,\n",
      "to ensure high satisfaction on an ongoing basis.\n",
      "\n",
      "1.2. VISION AND STRATEGY\n",
      "CGI is unique compared to most companies, as our vision is based on a dream: “To create an environment in which we enjoy\n",
      "working together and, as owners, contribute to building a company we can be proud of.” This dream has motivated us since\n",
      "our founding in 1976 and drives our vision: “To be a global, world-class end-to-end IT and business consulting services leader\n",
      "helping our clients succeed.”\n",
      "\n",
      "In pursuing our dream and vision, CGI has been highly disciplined throughout its history in executing a Build and Buy profitable\n",
      "growth strategy comprised of four pillars that combine profitable organic growth (Build) and accretive acquisitions (Buy):\n",
      "\n",
      "Pillar 1: Win, renew and extend contracts\n",
      "\n",
      "Pillar 2: New large managed IT and business process services contracts\n",
      "\n",
      "These first two pillars relate to driving profitable organic growth through the pursuit of contracts with new and existing clients in\n",
      "our targeted industries. As such, CGI engages with new and existing clients on four levers in our portfolio of end-to-end\n",
      "services and solutions: Business and Strategic IT Consulting, Systems Integration, Managed Services and IP-based services.\n",
      "Successes in these pillars reflect the strength of our end-to-end portfolio of capabilities, the depth of expertise of our\n",
      "consultants in business and IT, client satisfaction in our delivery excellence, and the appreciation of the proximity model by our\n",
      "clients, both existing and potential.\n",
      "\n",
      "Pillar 3: Metro market acquisitions\n",
      "\n",
      "Pillar 4: Large, transformational acquisitions\n",
      "\n",
      "The third and fourth pillars focus on growth through accretive acquisitions. The third pillar for metro market acquisitions\n",
      "complements the proximity model and helps to provide a fuller range of end-to-end services. The fourth pillar for large\n",
      "transformational acquisitions helps to further expand our geographic footprint and reach the critical mass required to compete\n",
      "for large managed IT and business process services contracts and broaden our client relationships. Both the third and fourth\n",
      "pillars are supported by three levers. First, is our range of end-to-end services that allow us to consider a broad range of\n",
      "acquisitions. A second lever is CGI's industry sector mix that helps us mirror the IT spend of each metro market over time. A\n",
      "final lever across pillars three and four focuses on IP-based services firms that offer consulting services and managed services\n",
      "that leverage their solutions.\n",
      "CGI will continue to be a consolidator in the IT and business consulting services industry by being active across these four\n",
      "pillars.\n",
      "\n",
      "Executing our strategy\n",
      "\n",
      "CGI’s strategy is executed through a business model that combines client proximity with an extensive global delivery network\n",
      "to deliver the following benefits:\n",
      "\n",
      "• Local relationships and accountability: We live and work near our clients to provide a high level of\n",
      "responsiveness, partnership, and innovation. Our local consultants and professionals speak our clients' language,\n",
      "understand their business and industries, and collaborate to meet their goals and advance their business.\n",
      "• Global reach: Our local presence is complemented by an expansive global delivery network that ensures our\n",
      "clients have 24/7 access to best-fit digital capabilities and resources to meet their end-to-end needs. In addition,\n",
      "clients benefit from our unique combination of industry domain and technology expertise within our global delivery\n",
      "model.\n",
      "• Committed experts: Two of our key strategic goals are to be our clients’ partner and expert of choice. To achieve\n",
      "this, we invest in developing and recruiting professionals with extensive industry, business and in-demand technology\n",
      "expertise. Individually and collectively, each of our experts embody partnership behaviors in all they do by being\n",
      "consultative and building trusted relationships with each other, our clients, shareholders, and within our communities.\n",
      "In addition, a majority of consultants and professionals are also owners through our Share Purchase Plan, which,\n",
      "combined with the Profit Participation Plan, provide an added level of commitment to the success of our clients.\n",
      "• Everyday innovation: Our approach to client engagements is to continuously bring forward actionable insights that\n",
      "support clients’ ROI-led digitization priorities. Through our client satisfaction program, we regularly assess the degree\n",
      "to which clients find that CGI introduced applicable innovation to the engagements we deliver for them, including\n",
      "through our ideas, processes, tools and offerings. We also scale innovative solutions co-created with clients through a\n",
      "global governance model.\n",
      "• Comprehensive quality processes: CGI’s investment in quality frameworks and rigorous client satisfaction\n",
      "assessments has resulted in a consistent track record of on-time and within-budget project delivery. With regular\n",
      "reviews of engagements and transparency at all levels, the Company ensures that client objectives and its own\n",
      "Management’s Discussion and Analysis | For the years ended September 30, 2024 and 2023\n",
      "© 2024 CGI Inc. Page 11\n",
      "FISCAL 2024 RESULTS — 11\n",
      "quality objectives are consistently followed at all times. This thorough process enables CGI to generate continuous\n",
      "improvements for all stakeholders by applying corrective measures as soon as they are required.\n",
      "• ESG strategy: At CGI, our ESG strategy is key to contributing to our strategic goal to be recognized by our\n",
      "stakeholders as an engaged, ethical and responsible corporate citizen within our communities. Our commitments\n",
      "align with the United Nations (UN) Global Compact’s 10 principles and the Science Based Target initiative (SBTi) and\n",
      "we are recognized by leading international indices, including EcoVadis, Carbon Disclosure Project (CDP) and Dow\n",
      "Jones Sustainability Indices (DJSI). We prioritize partnerships with clients, while also collaborating with educational\n",
      "institutions and local organizations, on three global priorities: people, communities and climate. We demonstrate our\n",
      "commitment to a sustainable world through projects delivered in collaboration with clients and through operating\n",
      "practices, supply chain management, and community service activities.\n",
      "\n",
      "1.3. COMPETITIVE ENVIRONMENT\n",
      "As market dynamics and industry trends continue to increase client demand for ROI-led digitization, CGI is well-positioned to\n",
      "serve as a digital partner and expert of choice. We work with clients across the globe to implement digital strategies, roadmaps\n",
      "and solutions that help clients transform the customer/citizen experience, drive the launch of new products and services, and\n",
      "deliver efficiencies and cost savings.\n",
      "CGI’s competition is comprised of a variety of firms, from local companies providing specialized services and software,\n",
      "government pure-plays to global business consulting and IT services providers. All of these players are competing to deliver\n",
      "some or all of the services we provide.\n",
      " Many factors distinguish the industry leaders, including the following:\n",
      "• Depth and breadth of industry and technology expertise;\n",
      "• Local presence and strength of client relationships;\n",
      "• Extensive and flexible global delivery network, including onshore, nearshore and offshore options;\n",
      "• Breadth of digital IP solutions;\n",
      "• Total cost of services and value delivered;\n",
      "• Ability to deliver practical innovation for measurable results; and\n",
      "• Consistent on-time, within-budget delivery everywhere clients operate.\n",
      "CGI is one of the leaders in the industry with respect to the combination of these factors. CGI is one of few firms with the scale,\n",
      "reach, and capabilities to meet clients’ enterprise business and technology needs \n"
     ]
    }
   ],
   "source": [
    "import glob\n",
    "\n",
    "# Index of file to be printed\n",
    "file_index = 1\n",
    "\n",
    "for filepath in glob.glob(\"data/docs/*.txt\")[file_index:file_index+1]:\n",
    "    with open(filepath, \"r\", encoding=\"utf-8\") as f:\n",
    "        print(f\"Firm:{filepath} \\nText:{f.read()} \")\n"
   ]
  },
  {
   "cell_type": "code",
   "execution_count": 2,
   "id": "4b58a52f",
   "metadata": {},
   "outputs": [
    {
     "name": "stdout",
     "output_type": "stream",
     "text": [
      "abn_amro.txt: 1734 tokens\n",
      "CGI.txt: 2795 tokens\n",
      "ing.txt: 1006 tokens\n",
      "rabobank.txt: 1183 tokens\n",
      "\n",
      "Total tokens across all files: 6718\n"
     ]
    }
   ],
   "source": [
    "# Token count\n",
    "import importlib, utils\n",
    "importlib.reload(utils)\n",
    "from utils import count_tokens_in_docs\n",
    "\n",
    "print(count_tokens_in_docs())"
   ]
  },
  {
   "cell_type": "markdown",
   "id": "38700875",
   "metadata": {},
   "source": [
    "## 2  |  Baselines — No RAG\n",
    "\n",
    "### 2.1  Naïve “Stuff‑Everything” Prompt"
   ]
  },
  {
   "cell_type": "markdown",
   "id": "f77b5f50",
   "metadata": {},
   "source": [
    "Chunk all text together, question answered correctly at random."
   ]
  },
  {
   "cell_type": "code",
   "execution_count": 3,
   "id": "4c6a340a",
   "metadata": {},
   "outputs": [
    {
     "name": "stdout",
     "output_type": "stream",
     "text": [
      "Response: 1. **ABN AMRO**: Yes, the interview is question and answer-based and it is from the year 2024.\n",
      "\n",
      "2. **CGI**: No, the text does not contain an interview format; it provides a general overview and strategic insights instead. \n",
      "\n",
      "3. **ING**: Yes, the interview is question and answer-based and it is from the year 2024. \n",
      "\n",
      "4. **Rabobank**: Yes, the interview is question and answer-based and it is from the year 2024.\n",
      "\n"
     ]
    }
   ],
   "source": [
    "import importlib, utils\n",
    "importlib.reload(utils)\n",
    "from utils import gpt_4o_mini\n",
    "import glob\n",
    "\n",
    "# Chunks all text files together in a single string.\n",
    "text = \"\"\n",
    "for filepath in glob.glob(\"data/docs/*.txt\"):\n",
    "    with open(filepath, \"r\", encoding=\"utf-8\") as f:\n",
    "        text += f.read()\n",
    "\n",
    "SYSTEM = f\"\"\"The text between triple backtics are multiple CEO interviews from an annual report, I will ask you retrieval-questions about it: ```{text}```\"\"\"\n",
    "query = \"Are the individual interviews question and answer-based and in what year? Check every firm seperately and provide me with one answer per firm.\"\n",
    "response = gpt_4o_mini(user_message=query,system_message=SYSTEM)\n",
    "print(f\"Response: {response.content}\\n\")"
   ]
  },
  {
   "cell_type": "markdown",
   "id": "626b9083",
   "metadata": {},
   "source": [
    "### 2.2  File looping, asking the question seperately per firm."
   ]
  },
  {
   "cell_type": "code",
   "execution_count": 5,
   "id": "5ef75c4a",
   "metadata": {},
   "outputs": [
    {
     "name": "stdout",
     "output_type": "stream",
     "text": [
      "File: ABN_AMRO \n",
      "Response: Yes, the text is structured as a question-and-answer interview. The interview pertains to the year 2024.\n",
      "\n",
      "File: CGI \n",
      "Response: The text provided is not structured as a typical interview question and answer format; rather, it is a comprehensive overview of the company CGI, its services, vision, strategy, and competitive environment. The text outlines various aspects of CGI's operations and strategies but does not include specific questions or responses usually found in an interview. The year mentioned in the text references fiscal 2024 results, implying it relates to the period ending September 30, 2024.\n",
      "\n",
      "File: ING \n",
      "Response: The text is not presented in a question-and-answer format; it is a letter addressed to stakeholders, specifically shareholders. It reflects on the company's performance and outlook for the future in the year 2024.\n",
      "\n",
      "File: RABOBANK \n",
      "Response: The text you provided is not structured as a traditional question and answer interview but rather as a foreword or letter from the CEO, Stefaan Decraene, discussing the company's performance and outlook. The year mentioned in the text is 2024.\n",
      "\n"
     ]
    }
   ],
   "source": [
    "import glob\n",
    "for filepath in glob.glob(\"data/docs/*.txt\"):\n",
    "    with open(filepath, \"r\", encoding=\"utf-8\") as f:\n",
    "        text = f.read()\n",
    "\n",
    "    # Get the file name without the extension\n",
    "    file_name = str(filepath).split(\"\\\\\")[-1].split(\".\")[0].upper()\n",
    "\n",
    "    # Query\n",
    "    SYSTEM = f\"\"\"The text between triple backtics is a CEO interview from an annual report, I will ask you retrieval-questions about it: ```{text}```\"\"\"\n",
    "    query = \"Is this interview question and answer-based and in what year?\"\n",
    "    response = gpt_4o_mini(user_message=query,system_message=SYSTEM)\n",
    "    print(f\"File: {file_name} \\nResponse: {response.content}\\n\")"
   ]
  },
  {
   "cell_type": "markdown",
   "id": "99c8705b",
   "metadata": {},
   "source": [
    "**Expected result:** Inaccurate answers for fully chunked text.\n",
    "\n",
    "**Takeaway:** Reducing input information size improves answer accuracy. "
   ]
  },
  {
   "cell_type": "markdown",
   "id": "b2d28905",
   "metadata": {},
   "source": [
    "## 3  |  Function‑Calling Experiments\n",
    "\n",
    "The next cell registers a simple calculator tool:"
   ]
  },
  {
   "cell_type": "markdown",
   "id": "fc58771e",
   "metadata": {},
   "source": [
    "Example of many digit computation. A transformer does not 'reason', it infers the answer likely to be the case form a test-corpus."
   ]
  },
  {
   "cell_type": "markdown",
   "id": "08e35fb0",
   "metadata": {},
   "source": [
    "### 3.1. Asking ChatGPT directly, incorrect!"
   ]
  },
  {
   "cell_type": "code",
   "execution_count": 144,
   "id": "9d2fe52c",
   "metadata": {},
   "outputs": [
    {
     "name": "stdout",
     "output_type": "stream",
     "text": [
      "466128630\n"
     ]
    }
   ],
   "source": [
    "import importlib, utils\n",
    "importlib.reload(utils)\n",
    "from utils import gpt_4o_mini\n",
    "\n",
    "# Wrong answer:\n",
    "print(gpt_4o_mini(\"What is 12534 x 37245?, return me only the answer, no seperators\").content)"
   ]
  },
  {
   "cell_type": "markdown",
   "id": "709470ad",
   "metadata": {},
   "source": [
    "### 3.2. Using a tool call, infers arguments from the prompt."
   ]
  },
  {
   "cell_type": "code",
   "execution_count": 175,
   "id": "bd6af664",
   "metadata": {},
   "outputs": [
    {
     "name": "stdout",
     "output_type": "stream",
     "text": [
      "466828830\n"
     ]
    }
   ],
   "source": [
    "\n",
    "import importlib, utils\n",
    "importlib.reload(utils)\n",
    "from utils import gpt_4o_mini, tool_schema\n",
    "import json\n",
    "\n",
    "#Define tool_schema for the function multiplier.\n",
    "tool_schema = {\n",
    "    \"type\": \"function\",\n",
    "    \"function\": {\n",
    "        \"name\": \"multiplier\",\n",
    "        \"parameters\": {\n",
    "            \"type\": \"object\",\n",
    "            \"description\": \"Multiply two numbers.\",\n",
    "            \"properties\": {\n",
    "                \"x\": {\n",
    "                    \"type\": \"integer\",\n",
    "                    \"description\": \"First number to multiply, must be integer or float.\",\n",
    "                },\n",
    "                \"y\": {\n",
    "                    \"type\": \"integer\",\n",
    "                    \"description\": \"First number to multiply, must be integer or float.\",\n",
    "                },\n",
    "            },\n",
    "            \"required\": [\"x\", \"y\"],\n",
    "        },\n",
    "    },\n",
    "}\n",
    "\n",
    "#Call arguments.\n",
    "arguments = json.loads(gpt_4o_mini(\"What is 12534 x 37245?\",tool_schema=tool_schema).tool_calls[0].function.arguments)\n",
    "\n",
    "#Calculate answer using the arguments.\n",
    "print(arguments[\"x\"]*arguments[\"y\"])\n"
   ]
  },
  {
   "cell_type": "markdown",
   "id": "0806d76a",
   "metadata": {},
   "source": [
    "**Expected result:** Inaccurate computation when asking ChatGPT directly.\n",
    "\n",
    "**Takeaway:** Questions with exact answers should be answered using a tool-call."
   ]
  },
  {
   "cell_type": "markdown",
   "id": "56aa4c01",
   "metadata": {},
   "source": [
    "## 4  |  Intro to Embeddings\n",
    "\n",
    "### 4.1  Word Embeddings & Cosine Similarity"
   ]
  },
  {
   "cell_type": "code",
   "execution_count": 181,
   "id": "fb10bb42",
   "metadata": {},
   "outputs": [
    {
     "name": "stdout",
     "output_type": "stream",
     "text": [
      "all-MiniLM-L6-v2\n",
      "tensor([[0.7882]])\n",
      "tensor([[0.8582]])\n"
     ]
    }
   ],
   "source": [
    "from sentence_transformers import SentenceTransformer, util\n",
    "for model in [\"all-MiniLM-L6-v2\"]:\n",
    "    print(model)\n",
    "\n",
    "    #Baseline similarity\n",
    "    sim = util.cos_sim(SentenceTransformer(model).encode(\"cat\"), SentenceTransformer(model).encode(\"kitten\"))\n",
    "    print(sim)\n",
    "\n",
    "    #Decreasing attention for word that differs\n",
    "    sim = util.cos_sim(SentenceTransformer(model).encode(\"cat falls from the sky\"), SentenceTransformer(model).encode(\"kitten falls from the sky\"))\n",
    "    print(sim)\n"
   ]
  },
  {
   "cell_type": "markdown",
   "id": "0d6ff74f",
   "metadata": {},
   "source": [
    "Expect similarity around **0.8 – 0.9** → words are semantically close.\n",
    "\n",
    "### 4.2  Text Embeddings: Good vs Bad Models\n",
    "\n",
    "| Model | Expected similarity (`\"GraphQL tutorial\"` ↔ `\"Learn GraphQL in depth\"`) |\n",
    "|-------|---------------------------------------------|\n",
    "| **`all-MiniLM-L6-v2`** | **≈ 0.80** (good) |\n",
    "| **`...` CLS** | **≈ 0.20** (bad) |\n",
    "\n",
    "Some “general” models optimise for *token prediction*, not semantic retrieval."
   ]
  },
  {
   "cell_type": "markdown",
   "id": "ceabd802",
   "metadata": {},
   "source": [
    "## 5  |  Building a Tiny Vector Store"
   ]
  },
  {
   "cell_type": "code",
   "execution_count": null,
   "id": "798a031e",
   "metadata": {},
   "outputs": [],
   "source": [
    "from langchain_community.vectorstores import FAISS\n",
    "index = FAISS.from_documents(docs, model)\n",
    "retriever = index.as_retriever(search_kwargs={\"k\": 4})"
   ]
  },
  {
   "cell_type": "markdown",
   "id": "1c2d3f95",
   "metadata": {},
   "source": [
    "*Tip:* Keep the index serialized to disk so you can reuse it between sessions."
   ]
  },
  {
   "cell_type": "markdown",
   "id": "63695277",
   "metadata": {},
   "source": [
    "## 6  |  LangChain RAG Pipeline (Working Demo)"
   ]
  },
  {
   "cell_type": "code",
   "execution_count": null,
   "id": "3e787d0a",
   "metadata": {},
   "outputs": [],
   "source": [
    "from langchain_openai import ChatOpenAI\n",
    "from langchain.chains import RetrievalQA\n",
    "\n",
    "qa_chain = RetrievalQA.from_chain_type(\n",
    "    llm=ChatOpenAI(model=\"gpt-4o-mini\"),\n",
    "    retriever=retriever,\n",
    "    return_source_documents=True\n",
    ")\n",
    "qa_chain.invoke({\"query\": query})"
   ]
  },
  {
   "cell_type": "markdown",
   "id": "f56467a3",
   "metadata": {},
   "source": [
    "*Outcome:* GPT first fetches the top‑K relevant chunks, then answers with citations."
   ]
  },
  {
   "cell_type": "markdown",
   "id": "e939c7d4",
   "metadata": {},
   "source": [
    "## 7  |  Scaling Experiments\n",
    "\n",
    "### 7.1  “Brute‑Force” Paragraph Loop (Again)\n",
    "Run against all 50 docs → ~30 s, 50 API calls.\n",
    "\n",
    "### 7.2  RAG: Filter ➜ Generate\n",
    "\n",
    "1. **Retrieve `k=4`** docs (~0.9 s)  \n",
    "2. Loop only their paragraphs (~2 s total)\n",
    "\n",
    "| Method | Latency | Tokens billed | Accuracy |\n",
    "|--------|---------|---------------|----------|\n",
    "| Brute loop | 30 s | 20 k | ✅ |\n",
    "| RAG filter+loop | **2 s** | **5 k** | ✅ |"
   ]
  },
  {
   "cell_type": "code",
   "execution_count": null,
   "id": "7950fd65",
   "metadata": {},
   "outputs": [],
   "source": []
  },
  {
   "cell_type": "markdown",
   "id": "ff05efcc",
   "metadata": {},
   "source": [
    "## 8  |  Key Take‑aways\n",
    "\n",
    "* **Don’t over‑stuff** prompts – use retrieval to keep context focused.  \n",
    "* **Function calling** makes GPT predictable for structured tasks.  \n",
    "* **Good embeddings** are half the battle; benchmark before you build.  \n",
    "* **LangChain** reduces boilerplate, but it’s still just *Python* – inspect the objects!"
   ]
  },
  {
   "cell_type": "markdown",
   "id": "50d2fada",
   "metadata": {},
   "source": [
    "## 9  |  Suggested Exercises\n",
    "\n",
    "1. Swap `gpt-4o-mini` for `gpt-4o-128k` and compare cost vs latency.  \n",
    "2. Replace FAISS with **Weaviate** or **Chroma**.  \n",
    "3. Implement a **streamlit** UI that uses the LangChain chain.  \n",
    "4. Try a **hybrid search** (BM25 + embeddings)."
   ]
  },
  {
   "cell_type": "markdown",
   "id": "b91a2d3a",
   "metadata": {},
   "source": [
    "## 10  |  Further Reading\n",
    "\n",
    "* OpenAI docs – *RAG best practices*  \n",
    "* LangChain docs – *RetrievalQA*  \n",
    "* “Improving Faithfulness in LLM‑generated Answers” (white‑paper, 2024)\n",
    "\n",
    "---\n",
    "\n",
    "Happy hacking — and enjoy watching your old‑school prompts evolve into robust RAG pipelines!"
   ]
  }
 ],
 "metadata": {
  "kernelspec": {
   "display_name": ".venv",
   "language": "python",
   "name": "python3"
  },
  "language_info": {
   "codemirror_mode": {
    "name": "ipython",
    "version": 3
   },
   "file_extension": ".py",
   "mimetype": "text/x-python",
   "name": "python",
   "nbconvert_exporter": "python",
   "pygments_lexer": "ipython3",
   "version": "3.12.6"
  }
 },
 "nbformat": 4,
 "nbformat_minor": 5
}
