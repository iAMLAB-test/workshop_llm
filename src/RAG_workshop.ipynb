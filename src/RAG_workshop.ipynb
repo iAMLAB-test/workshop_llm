{
 "cells": [
  {
   "cell_type": "markdown",
   "id": "69e56202",
   "metadata": {},
   "source": [
    "# RAG Workshop – Dutch Pension Law  \n",
    "Author: *Generated on 2025-04-30*  \n",
    "\n",
    "This notebook accompanies an internal workshop on **Retrieval‑Augmented Generation (RAG)** with Dutch pension‑related law texts from [wetten.overheid.nl](https://wetten.overheid.nl).  \n",
    "You will need:\n",
    "\n",
    "* Python 3.10+  \n",
    "* `openai`, `azure‑identity`, `langchain`, `langchain‑community`, `langchain‑huggingface`,`langchain_openai`, `tiktoken`, `rdflib`, `faiss-cpu`,`numpy`,`scikit-learn`,`ipykernel`,`ipywidgets`,`rdflib`\n",
    "\n",
    "Using `config_template.yaml` fill it's contexts (provided seperately) and save under `config.yaml`, necessary to run gpt models:\n",
    "\n",
    "1. **Configure environment**\n",
    "   ```bash\n",
    "   # This is a template configuration file for the Azure OpenAI API.\n",
    "   # Fill in the placeholders with your actual configuration values.\n",
    "   # Then save the file as 'config.yaml' in the same directory.\n",
    "   AZURE_ENDPOINT: [Enter your Azure endpoint here]\n",
    "\n",
    "   ## Decoder\n",
    "   API_VERSION_DECODER: [Enter your API version here]\n",
    "   API_KEY_DECODER: [Enter your API key here]\n",
    "\n",
    "   ## Encoder\n",
    "   API_VERSION_ENCODER: [Enter your API version here]\n",
    "   API_KEY_ENCODER: [Enter your API key here]\n",
    "   ```\n",
    "2. Next run the cell below to install dependencies."
   ]
  },
  {
   "cell_type": "code",
   "execution_count": null,
   "id": "dfd88990",
   "metadata": {},
   "outputs": [],
   "source": [
    "%pip install -r requirements.txt"
   ]
  },
  {
   "cell_type": "markdown",
   "id": "4d3c1e4d",
   "metadata": {},
   "source": [
    "### Simple LLM call."
   ]
  },
  {
   "cell_type": "code",
   "execution_count": 2,
   "id": "e1039e6a",
   "metadata": {},
   "outputs": [
    {
     "name": "stdout",
     "output_type": "stream",
     "text": [
      "Sure! Here’s \"Hello world\" in five different languages:\n",
      "\n",
      "1. English: Hello world\n",
      "2. Spanish: Hola mundo\n",
      "3. French: Bonjour le monde\n",
      "4. German: Hallo Welt\n",
      "5. Italian: Ciao mondo\n"
     ]
    }
   ],
   "source": [
    "#Prompting API example.\n",
    "from utils import gpt_4o_mini\n",
    "\n",
    "query = \"Say 'Hello world' in five different languages.\"\n",
    "print(gpt_4o_mini(query).choices[0].message.content)"
   ]
  },
  {
   "cell_type": "markdown",
   "id": "81016e16",
   "metadata": {},
   "source": [
    "## 1 – Layout of Dutch law texts  \n",
    "We will inspect local `.txt` dumps in `data/docs/`. Each file contains **one complete law** (some > 60 k tokens).\n",
    "\n",
    "Below we load the all three files and print a *single article* per file to understand the structure."
   ]
  },
  {
   "cell_type": "markdown",
   "id": "7f16bfcf",
   "metadata": {},
   "source": [
    "### Random article from input law texts.\n",
    "\n",
    "Here we show, using the three law texts, one random article from each."
   ]
  },
  {
   "cell_type": "code",
   "execution_count": 3,
   "id": "7d70b85b",
   "metadata": {},
   "outputs": [
    {
     "name": "stdout",
     "output_type": "stream",
     "text": [
      "\n",
      "--- Algemene ouderdomswet.txt, total articles 110 ---\n",
      "Artikel 17b\n",
      "1.      De Sociale verzekeringsbank weigert het ouderdomspensioen geheel of gedeeltelijk, tijdelijk\n",
      "of blijvend, indien de pensioengerechtigde, zijn echtgenoot, of zijn wettelijke vertegenwoordiger\n",
      "een verplichting, hem op grond van artikel 15, tweede of derde lid, opgelegd, of de verplichtingen,\n",
      "bedoeld in artikel 55, tweede lid, van de Wet structuur uitvoeringsorganisatie werk en inkomen niet\n",
      "of niet behoorlijk is nagekomen, dan wel de verplichting, bedoeld in artikel 49 niet binnen de door\n",
      "de Sociale verzekeringsbank daarvoor vastgestelde termijn is nagekomen.  2.      Een maatregel als\n",
      "bedoeld in het eerste lid wordt afgestemd op de ernst van de gedraging en de mate waarin de\n",
      "belanghebbende de gedraging verweten kan worden. Van het opleggen van een maatregel wordt in elk\n",
      "geval afgezien, indien elke vorm van verwijtbaarheid ontbreekt.  3.      De Sociale verzekeringsbank\n",
      "kan afzien van het opleggen van een maatregel als bedoeld in het eerste lid en volstaan met het\n",
      "geven van een schriftelijke waarschuwing ter zake het niet tijdig nakomen van de verplichting,\n",
      "bedoeld in artikel 49, indien het niet tijdig nakomen van de verplichting niet heeft geleid tot het\n",
      "ten onrechte of tot een te hoog bedrag verlenen van ouderdomspensioen, tenzij het niet tijdig\n",
      "nakomen van de verplichting plaatsvindt binnen een periode van twee jaar te rekenen vanaf de datum\n",
      "waarop eerder aan de belanghebbende een zodanige waarschuwing is gegeven.  4.      De Sociale\n",
      "verzekeringsbank kan afzien van het opleggen van een maatregel indien daarvoor dringende redenen\n",
      "aanwezig zijn.  5.      Het opleggen van een maatregel blijft achterwege indien voor dezelfde\n",
      "gedraging een bestuurlijke boete als bedoeld in artikel 17c wordt opgelegd.  6.      Bij of\n",
      "krachtens algemene maatregel van bestuur worden nadere regels gesteld met betrekking tot het eerste\n",
      "en tweede lid.\n",
      "\n",
      "--- Pensioenwet.txt, total articles 323 ---\n",
      "Artikel 165.\n",
      "Aanwijzing door Onze Minister  1.      Onze Minister kan aan de toezichthouder een aanwijzing geven\n",
      "over de uitoefening van de aan de toezichthouder bij of krachtens deze wet opgedragen taken en\n",
      "toegekende bevoegdheden wanneer de toezichthouder hierin naar het oordeel van Onze Minister tekort\n",
      "schiet. Onze Minister treedt daarbij niet in individuele gevallen.  2.      De toezichthouder is\n",
      "gehouden overeenkomstig de aanwijzing te handelen.\n",
      "\n",
      "--- Uitvoeringsbesluit loonbelasting 1965.txt, total articles 50 ---\n",
      "Artikel 11a\n",
      "Ingeval een verzekeraar als bedoeld in artikel 19a van de wet overeenkomt met de inhoudingsplichtige\n",
      "die aan de werknemer loon verstrekt als bedoeld in artikel 31, vierde lid, onderdeel h, van de wet,\n",
      "dat die verzekeraar de ter zake van dat loon verschuldigde loonbelasting inhoudt op het pensioen,\n",
      "wordt niet die inhoudingsplichtige, maar die verzekeraar ter zake van dat loon als\n",
      "inhoudingsplichtige beschouwd.\n",
      "\n",
      "--- Wet op loonbelasting 1964.txt, total articles 169 ---\n",
      "Artikel 5\n",
      "1.      Als dienstbetrekking wordt niet beschouwd de arbeidsverhouding van degene die uitsluitend of\n",
      "nagenoeg uitsluitend diensten verricht ten behoeve van het huishouden van de natuurlijke persoon tot\n",
      "wie hij in dienstbetrekking staat, indien hij de diensten doorgaans op minder dan vier dagen per\n",
      "week verricht.  2.      Onder het verrichten van diensten ten behoeve van een huishouden wordt voor\n",
      "de toepassing van dit artikel mede verstaan het verlenen van zorg aan de leden van dat huishouden.\n"
     ]
    }
   ],
   "source": [
    "from pathlib import Path\n",
    "import random\n",
    "from utils import split_articles, wrap_at_spaces\n",
    "\n",
    "# Load a law text file.\n",
    "DOC_PATH = Path(\"data/texts\")\n",
    "for law_file in sorted(DOC_PATH.glob(\"*.txt\")):\n",
    "    law_text = law_file.read_text(encoding=\"utf-8\")\n",
    "    articles = split_articles(law_text)  # drop preamble\n",
    "\n",
    "    example_idx = random.randrange(len(articles))\n",
    "    article_key = list(articles.keys())[example_idx]\n",
    "    print(f\"\\n--- {law_file.name}, total articles {len(articles)} ---\")\n",
    "    print(article_key)\n",
    "    print(wrap_at_spaces(articles[article_key],width=100))"
   ]
  },
  {
   "cell_type": "markdown",
   "id": "8ddb1b6e",
   "metadata": {},
   "source": [
    "### Count tokens per file.\n",
    "\n",
    "Given our working dataset, we show the number of tokens per law text below."
   ]
  },
  {
   "cell_type": "code",
   "execution_count": 4,
   "id": "1dbf9263",
   "metadata": {},
   "outputs": [
    {
     "name": "stdout",
     "output_type": "stream",
     "text": [
      "Algemene ouderdomswet.txt: 25883 tokens\n",
      "Pensioenwet.txt: 126337 tokens\n",
      "Uitvoeringsbesluit loonbelasting 1965.txt: 20766 tokens\n",
      "Wet op loonbelasting 1964.txt: 64790 tokens\n",
      "\n",
      "Total tokens across all files: 237776\n"
     ]
    }
   ],
   "source": [
    "# Token count\n",
    "from utils import count_tokens_in_docs\n",
    "\n",
    "print(count_tokens_in_docs())"
   ]
  },
  {
   "cell_type": "markdown",
   "id": "4280cb3d",
   "metadata": {},
   "source": [
    "## 2 – Direct LLM retrieval vs. Article‑wise retrieval  \n",
    "We compare:\n",
    "\n",
    "1. **Whole‑law prompt** – push the complete text (~60 k tokens)                                                 → costly ❌ fast ✔️ accurate ❌  \n",
    "2. **Chunked/article prompts** – iterate per article                                                            → costly ❌ slow ❌ accurate ✔️  \n",
    "3. **RAG** - use article text embeddings to identify five most relevant articles before searching per article   → cheap ✔️ fast ✔️ accurate ✔️  \n",
    "4. **Graph RAG** - Using a law text's linked-data structure                                                     → cheap ✔️ fast ✔️ accurate ✔️\n",
    "\n",
    "We demonstrates examples 3 and 4 at the end of the notebook."
   ]
  },
  {
   "cell_type": "markdown",
   "id": "27e3fb2b",
   "metadata": {},
   "source": [
    "### 2.1. First, using 'naive' full text chunking in one large system prompt."
   ]
  },
  {
   "cell_type": "code",
   "execution_count": 5,
   "id": "d8fb1b0f",
   "metadata": {},
   "outputs": [
    {
     "name": "stdout",
     "output_type": "stream",
     "text": [
      "Q Wat is de franchise, welk artikel gebruik je ervoor en wat zijn uitzonderingen op de wettelijke waarde? Hou het antwoord onder de 50 woorden.\n",
      "A: De franchise bedraagt € 18.475 volgens artikel 18a, tweede lid. Uitzonderingen op de wettelijke\n",
      "waarde zijn niet van toepassing als de regeling zoals bedoeld in artikel 18 niet voldoet aan de\n",
      "normeringen en begrenzingen in hoofdstuk IIB.\n",
      "\n",
      "--- Performance ---\n",
      "{\n",
      "  \"scenario\": \"Hele wetstekst ingeladen\",\n",
      "  \"input tokens\": 48515,\n",
      "  \"output tokens\": 55,\n",
      "  \"USD cost\": 0.01462,\n",
      "  \"elapsed seconds\": 2.4\n",
      "}\n"
     ]
    }
   ],
   "source": [
    "import time\n",
    "import json\n",
    "from utils import gpt_4o_mini, llm_metrics,wrap_at_spaces\n",
    "\n",
    "QUESTION = \"Wat is de franchise, welk artikel gebruik je ervoor en wat zijn uitzonderingen op de wettelijke waarde? Hou het antwoord onder de 50 woorden.\"\n",
    "\n",
    "# --- Whole law ---\n",
    "with open(\"data/texts/Wet op loonbelasting 1964.txt\", \"r\", encoding=\"utf-8\") as f:\n",
    "    law_text = f.read()\n",
    "    start = time.time()\n",
    "    response = gpt_4o_mini(user_message=QUESTION,law_text = law_text)\n",
    "\n",
    "    elapsed = time.time()-start\n",
    "    out_tokens = response.usage.completion_tokens\n",
    "    in_tokens = response.usage.prompt_tokens\n",
    "    print(f\"Q {QUESTION}\")\n",
    "    print(f\"A: {wrap_at_spaces(response.choices[0].message.content,100)}\")\n",
    "    print(f\"\\n--- Performance ---\")\n",
    "    print(json.dumps(llm_metrics(\"Hele wetstekst ingeladen\", in_tokens, out_tokens, elapsed),indent=2))"
   ]
  },
  {
   "cell_type": "markdown",
   "id": "65893cad",
   "metadata": {},
   "source": [
    "#### Answer incorrect!"
   ]
  },
  {
   "cell_type": "markdown",
   "id": "5764d5f1",
   "metadata": {},
   "source": [
    "### 2.2. Second, by looping per article section."
   ]
  },
  {
   "cell_type": "code",
   "execution_count": 6,
   "id": "cbe405be",
   "metadata": {},
   "outputs": [
    {
     "name": "stdout",
     "output_type": "stream",
     "text": [
      "Q Wat is de franchise, en wat zijn uitzonderingen op de wettelijke waarde? Indien deze tekst hier geen expliciete informatie over geeft, antwoord met enkel 'None'. Hou het antwoord onder de 50 woorden.\n",
      "A: De franchise bedraagt € 18.475 en kan jaarlijks bij ministeriële regeling worden aangepast.\n",
      "Uitzonderingen zijn mogelijk indien een lager percentage per dienstjaar wordt toegepast, waardoor\n",
      "een lager bedrag in aanmerking kan worden genomen.\n",
      "\n",
      "--- Performance ---\n",
      "{\n",
      "  \"scenario\": \"Hele wetstekst ingeladen\",\n",
      "  \"input tokens\": 59330,\n",
      "  \"output tokens\": 440,\n",
      "  \"USD cost\": 0.018327,\n",
      "  \"elapsed seconds\": 39.608\n",
      "}\n"
     ]
    }
   ],
   "source": [
    "import time\n",
    "import json\n",
    "from utils import gpt_4o_mini,llm_metrics,wrap_at_spaces,split_articles\n",
    "\n",
    "QUESTION = \"Wat is de franchise, en wat zijn uitzonderingen op de wettelijke waarde? \"+\\\n",
    "\"Indien deze tekst hier geen expliciete informatie over geeft, antwoord met enkel 'None'. Hou het antwoord onder de 50 woorden.\"\n",
    "\n",
    "start = time.time()\n",
    "in_tokens,out_tokens = 0,0\n",
    "answers = []\n",
    "with open(\"data/texts/Wet op loonbelasting 1964.txt\", \"r\", encoding=\"utf-8\") as f:\n",
    "    law_text = f.read()\n",
    "    article_dict = split_articles(law_text)\n",
    "    for key, law_article_text in article_dict.items():\n",
    "        response = gpt_4o_mini(user_message=QUESTION,law_text = law_article_text)\n",
    "        in_tokens += response.usage.prompt_tokens\n",
    "        out_tokens += response.usage.completion_tokens\n",
    "        if \"None\" in str(response.choices[0].message.content):\n",
    "            continue\n",
    "        answers.append((key,response.choices[0].message.content))\n",
    "    elapsed = time.time()-start\n",
    "    llm_metrics(\"Zoeken per artikel\", in_tokens, out_tokens, elapsed)\n",
    "    for key,ans in answers:\n",
    "        print(f\"Q {QUESTION}\")\n",
    "        print(f\"A: {wrap_at_spaces(ans,100)}\")\n",
    "        print(f\"\\n--- Performance ---\")\n",
    "        print(json.dumps(llm_metrics(\"Hele wetstekst ingeladen\", in_tokens, out_tokens, elapsed),indent=2))\n"
   ]
  },
  {
   "cell_type": "markdown",
   "id": "6ff9d673",
   "metadata": {},
   "source": [
    "#### Answer is correct, but takes a long time to find (50+ seconds)."
   ]
  },
  {
   "cell_type": "markdown",
   "id": "68a2b4fa",
   "metadata": {},
   "source": [
    "\n",
    "**Main observations**\n",
    "\n",
    "- The franchise value can be lower than € 18.475 given the premium percentage, this is only observed when looping over articles.\n",
    "- Looping over articles is accurate but takes a long time (50+ seconds in contrast to approximately 3 seconds). Both methods are costly, token-wise."
   ]
  },
  {
   "cell_type": "markdown",
   "id": "ef616e29",
   "metadata": {},
   "source": [
    "## 3. Introduction to RAG"
   ]
  },
  {
   "cell_type": "markdown",
   "id": "d9d49064",
   "metadata": {},
   "source": [
    "\n",
    "A word/sentence embedding is a numerical representation (using a vector) of it's semantic meaning. \n",
    "\n",
    "By creating vector-stores of texts first, one no longer has to rely on word-matching or brute force loop-searching to find the right article containing specific text\n",
    "by simply searching over a small subset of articles with an embedding closest to the question at hand, which is RAG in a nutshell. \n",
    "\n",
    "Cosine similarity measures the (L2) distance between two vectors, in this case word/sentence embeddings. \n",
    "Values are between 0 and 1, with values closer to 1 indicating words/sentences that are similar."
   ]
  },
  {
   "cell_type": "markdown",
   "id": "06f35043",
   "metadata": {},
   "source": [
    "### 3.1. Comparing embeddings ofwords/sentences."
   ]
  },
  {
   "cell_type": "markdown",
   "id": "2d3ec2bb",
   "metadata": {},
   "source": [
    "Change the model parameters to observe differences across similarity metrics."
   ]
  },
  {
   "cell_type": "code",
   "execution_count": 7,
   "id": "55c56a6a",
   "metadata": {},
   "outputs": [
    {
     "name": "stdout",
     "output_type": "stream",
     "text": [
      "--- model: mxbai-embed-large-v1 ---\n",
      "t1: car\n",
      "t2: cat\n",
      "distance 0.7\n",
      "t1: cat \n",
      "t2: kitten \n",
      "distance 0.83\n",
      "t1: cat is a large animal\n",
      "t2: kitten is a large animal\n",
      "distance 0.89\n",
      "t1: cat is a large animal with much fur\n",
      "t2: kitten is a large animal with much fur\n",
      "distance 0.91\n",
      "---\n",
      "t1: rock\n",
      "t2: object that beats scissors in rock paper scissors\n",
      "distance 0.56\n",
      "t1: Tallest building in New York in 1931\n",
      "t2: The Empire State Building\n",
      "distance 0.68\n"
     ]
    }
   ],
   "source": [
    "import numpy as np\n",
    "from utils import text_embedding_3_large\n",
    "from sklearn.metrics.pairwise import cosine_similarity\n",
    "from langchain_huggingface import HuggingFaceEmbeddings\n",
    "\n",
    "# Adjustable parameters\n",
    "model = \"mxbai-embed-large-v1\" #\"mxbai-embed-large-v1\" or \"text_embedding_3_large\"\n",
    "\n",
    "assert model in [\"mxbai-embed-large-v1\",\"text_embedding_3_large\"], \"model must be either 'hf' or 'azure'\"\n",
    "mxbai_emb = HuggingFaceEmbeddings(model_name=\"mixedbread-ai/mxbai-embed-large-v1\")\n",
    "#Test one, same sentence, one different word.\n",
    "print( \"--- model:\",model,\"---\")\n",
    "text_tuple_list = list([(\"car\",\"cat\")]+[(f\"cat {sentence}\",f\"kitten {sentence}\") for sentence in [\"\",\"is a large animal\", \"is a large animal with much fur\"]])\n",
    "for t1,t2 in text_tuple_list:\n",
    "    if model == \"mxbai-embed-large-v1\":\n",
    "        encoder_response = mxbai_emb.embed_documents([t1,t2])\n",
    "        v1,v2 = (np.array(encoder_response[i]).reshape(1,-1) for i in [0,1])\n",
    "    else:\n",
    "        encoder_response = text_embedding_3_large([t1,t2])\n",
    "        v1,v2 = (np.array(encoder_response.data[i].embedding).reshape(1,-1) for i in [0,1])\n",
    "    print(f\"t1: {t1}\")\n",
    "    print(f\"t2: {t2}\")\n",
    "    print(\"distance\",np.round(cosine_similarity(v1,v2)[0,0],2))\n",
    "\n",
    "#Test two, same meaning, different words.\n",
    "print( \"---\")\n",
    "text_tuple_list = list([(\"rock\",\"object that beats scissors in rock paper scissors\"),(\"Tallest building in New York in 1931\",\"The Empire State Building\")])\n",
    "for t1,t2 in text_tuple_list:\n",
    "    if model == \"mxbai-embed-large-v1\":\n",
    "        encoder_response = mxbai_emb.embed_documents([t1,t2])\n",
    "        v1,v2 = (np.array(encoder_response[i]).reshape(1,-1) for i in [0,1])\n",
    "    else:\n",
    "        encoder_response = text_embedding_3_large([t1,t2])\n",
    "        v1,v2 = (np.array(encoder_response.data[i].embedding).reshape(1,-1) for i in [0,1])\n",
    "    print(f\"t1: {t1}\")\n",
    "    print(f\"t2: {t2}\")\n",
    "    print(\"distance\",np.round(cosine_similarity(v1,v2)[0,0],2))"
   ]
  },
  {
   "cell_type": "markdown",
   "id": "caccdc5c",
   "metadata": {},
   "source": [
    "**This cell demonstrates two things:**\n",
    "\n",
    "When keeping one word different but increasing the sentence size, the differing word leads to a smaller difference between the resulting embeddings.\n",
    "\n",
    "Distance between 'similar' sentences using the 'text_embedding_3_large' model seem to be further apart compared to the HuggingFaceEmbeddings 'mxbai-embed-large-v1' model.\n",
    "\n",
    "This can be tested by adjusting the 'model' parameter above."
   ]
  },
  {
   "cell_type": "markdown",
   "id": "32857fec",
   "metadata": {},
   "source": [
    "### 3.2. Creating law article vector stores using both models (takes 3+ minutes on my developer-laptop), do not rerun."
   ]
  },
  {
   "cell_type": "code",
   "execution_count": 8,
   "id": "5ad8b86d",
   "metadata": {},
   "outputs": [],
   "source": [
    "# from pathlib import Path\n",
    "# from langchain_community.vectorstores import FAISS\n",
    "# from langchain.text_splitter import RecursiveCharacterTextSplitter\n",
    "# from utils import AZURE_EMBEDDINGS, MXBAI_EMBEDDINGS, split_articles\n",
    "# import os\n",
    "\n",
    "# dir_name = os.getcwd()\n",
    "\n",
    "# # Save law texts seperately to a list and create the underlying vector_stores\n",
    "# DOC_PATH = Path(\"data/texts\")\n",
    "# article_list = []\n",
    "# for law_file in sorted(DOC_PATH.glob(\"*.txt\")):\n",
    "#     law_text = law_file.read_text(encoding=\"utf-8\")\n",
    "#     articles = split_articles(law_text)  # drop preamble\n",
    "#     article_list += [f\"\"\"{law_file.name} {key} {value}\"\"\" for key,value in articles.items()]\n",
    "\n",
    "# # 20000 chosen because the largest law text is 18000 characters.\n",
    "# splitter = RecursiveCharacterTextSplitter(chunk_size=20000, chunk_overlap=0)\n",
    "# documents = splitter.create_documents(article_list)\n",
    "\n",
    "# # 'Vector stores', for now not stored efficiently (using FAISS langchain).\n",
    "# mxbai_store = FAISS.from_documents(documents, MXBAI_EMBEDDINGS,normalize_L2=True)\n",
    "# mxbai_store.save_local(os.path.join(dir_name,\"data/vector_stores/mxbai-embed-large-v1_nongraph.index\"))\n",
    "# azure_store = FAISS.from_documents(documents, AZURE_EMBEDDINGS,normalize_L2=True)\n",
    "# azure_store.save_local(os.path.join(dir_name,\"data/vector_stores/text-embedding-3-large_nongraph.index\"))\n"
   ]
  },
  {
   "cell_type": "markdown",
   "id": "028e7bc3",
   "metadata": {},
   "source": [
    "## 4. Demonstrating RAG using article vector store."
   ]
  },
  {
   "cell_type": "markdown",
   "id": "4f87da14",
   "metadata": {},
   "source": [
    "### 4.1. For the generated vector store shows 5 of the most closely matched articles to the original question."
   ]
  },
  {
   "cell_type": "code",
   "execution_count": 9,
   "id": "23e8d9b9",
   "metadata": {},
   "outputs": [
    {
     "name": "stdout",
     "output_type": "stream",
     "text": [
      "\n",
      "--- Top 5 --- mixedbread-ai/mxbai-embed-large-v1\n",
      "1. Wet op loonbelasting 1964.txt Artikel 38s 1. Indien een pensioenregeling op grond van artikel 150f van de Pensioenwet of artikel 145e van de Wet [...]\n",
      "2. Wet op loonbelasting 1964.txt Artikel 18a 1. De premie per dienstjaar voor een ouderdomspensioen en een partnerpensioen bij overlijden op of na [...]\n",
      "3. Pensioenswet.txt Artikel 130. Vermelding premie in jaarrekening en bestuursverslag [Vervallen per 01-07-2023]\n",
      "4. Wet op loonbelasting 1964.txt Artikel 38m [Vervallen per 01-04-2017]\n",
      "5. Wet op loonbelasting 1964.txt Artikel 38j [Vervallen per 01-04-2017]\n",
      "\n",
      "--- Top 5 --- text_embedding_3_large\n",
      "1. Wet op loonbelasting 1964.txt Artikel 18a 1. De premie per dienstjaar voor een ouderdomspensioen en een partnerpensioen bij overlijden op of na [...]\n",
      "2. Pensioenswet.txt Artikel 150l. Standaard invaarpad 1. De wijze waarop wordt omgegaan met opgebouwde pensioenaanspraken en pensioenrechten als [...]\n",
      "3. Wet op loonbelasting 1964.txt Artikel 13 1. Niet in geld genoten loon wordt in aanmerking genomen naar de waarde die daaraan in het economische [...]\n",
      "4. Pensioenswet.txt Artikel 67. Afkoop klein partnerpensioen of wezenpensioen bij ingang 1. De pensioenuitvoerder heeft jegens de nabestaanden het [...]\n",
      "5. Pensioenswet.txt Artikel 79. Plicht tot waardeaanwending bij keuzerecht of keuzemogelijkheid 1. De pensioenuitvoerder is verplicht om op verzoek [...]\n"
     ]
    }
   ],
   "source": [
    "import textwrap\n",
    "from utils import MXBAI_STORE_NONGRAPH, AZURE_STORE_NONGRAPH, topk\n",
    "\n",
    "# number of articles to check\n",
    "n = 5\n",
    "\n",
    "QUESTION = \"Wat is de franchise, welk artikel gebruik je ervoor en wat zijn uitzonderingen op de wettelijke waarde? Hou het antwoord onder de 50 woorden.\"\n",
    "v1 = topk(MXBAI_STORE_NONGRAPH,QUESTION,k=n)\n",
    "v2 = topk(AZURE_STORE_NONGRAPH,QUESTION,k=n)\n",
    "\n",
    "article_list_mxbai = [tup[0].page_content for tup in v1]\n",
    "article_list_azure = [tup[0].page_content for tup in v2]\n",
    "\n",
    "# Pair them distance-first so heapq.nlargest uses the distance as the key\n",
    "dist_list = list(zip([\"mixedbread-ai/mxbai-embed-large-v1\",\"text_embedding_3_large\"],[article_list_mxbai, article_list_azure]))\n",
    "for name,article_list in dist_list:\n",
    "    print(f\"\\n--- Top {n} --- {name}\")\n",
    "    for i, article in enumerate(article_list):\n",
    "        print(f\"{i+1}.\",f\"{textwrap.shorten(article,150)}\")"
   ]
  },
  {
   "cell_type": "markdown",
   "id": "17d60006",
   "metadata": {},
   "source": [
    "#### Article 18a of 'Wet op loonbelasting 1964' is the correct article.\n",
    "The 'text_embedding_3_large' encoder ranks it first, 'mixedbread-ai/mxbai-embed-large-v1' model ranks it second."
   ]
  },
  {
   "cell_type": "markdown",
   "id": "cd47ac57",
   "metadata": {},
   "source": [
    "### 4.2. Putting everything together, using mxbai encoder"
   ]
  },
  {
   "cell_type": "code",
   "execution_count": 17,
   "id": "339e4ea9",
   "metadata": {},
   "outputs": [
    {
     "name": "stdout",
     "output_type": "stream",
     "text": [
      "Q: Wat is de franchise, welk artikel gebruik je ervoor en wat zijn uitzonderingen op de wettelijke waarde? Hou het antwoord onder de 50 woorden.\n",
      "A: De franchise bedraagt € 18.475, zoals vermeld in Artikel 18a, lid 3. Uitzonderingen zijn mogelijk bij deeltijdwerk, en een lager bedrag kan worden\n",
      "toegepast als een lager percentage per dienstjaar wordt gebruikt.\n",
      "\n",
      "--- Top 5 documents ---\n",
      "1. Wet op loonbelasting 1964.txt Artikel 38s 1. Indien een pensioenregeling op grond van artikel 150f van de Pensioenwet of artikel 145e van de Wet [...]\n",
      "2. Wet op loonbelasting 1964.txt Artikel 18a 1. De premie per dienstjaar voor een ouderdomspensioen en een partnerpensioen bij overlijden op of na [...]\n",
      "3. Pensioenswet.txt Artikel 130. Vermelding premie in jaarrekening en bestuursverslag [Vervallen per 01-07-2023]\n",
      "4. Wet op loonbelasting 1964.txt Artikel 38m [Vervallen per 01-04-2017]\n",
      "5. Wet op loonbelasting 1964.txt Artikel 38j [Vervallen per 01-04-2017]\n",
      "\n",
      "--- Performance ---\n",
      "{\n",
      "  \"scenario\": \"RAG op wetsartikelen\",\n",
      "  \"input tokens\": 1708,\n",
      "  \"output tokens\": 50,\n",
      "  \"USD cost\": 0.000572,\n",
      "  \"elapsed seconds\": 1.298\n",
      "}\n"
     ]
    }
   ],
   "source": [
    "import time\n",
    "import textwrap\n",
    "import json\n",
    "from utils import rag_executor, MXBAI_STORE_NONGRAPH\n",
    "\n",
    "start = time.time()\n",
    "QUESTION = \"Wat is de franchise, welk artikel gebruik je ervoor en wat zijn uitzonderingen op de wettelijke waarde? Hou het antwoord onder de 50 woorden.\"\n",
    "answer,top_docs,qa_chain,performance_cache = rag_executor(QUESTION,store = MXBAI_STORE_NONGRAPH)\n",
    "print(\"Q:\", QUESTION)\n",
    "print(\"A:\", wrap_at_spaces(answer,150))\n",
    "print(f\"\\n--- Top {len(top_docs)} documents ---\")\n",
    "for i,doc in enumerate(top_docs):\n",
    "    print(f\"{i+1}.\",f\"{textwrap.shorten(str(doc.page_content),150)}\")\n",
    "\n",
    "print(f\"\\n--- Performance ---\")\n",
    "in_tokens = performance_cache[\"in_tokens\"]\n",
    "out_tokens = performance_cache[\"out_tokens\"]\n",
    "elapsed = performance_cache[\"elapsed\"]\n",
    "print(json.dumps(llm_metrics(\"RAG op wetsartikelen\", in_tokens, out_tokens, elapsed),indent=2))"
   ]
  },
  {
   "cell_type": "markdown",
   "id": "c5c70f58",
   "metadata": {},
   "source": [
    "#### Much faster and accurate compared to the methods in Section 2.1 or 2.2."
   ]
  },
  {
   "cell_type": "markdown",
   "id": "ac8d4a49",
   "metadata": {},
   "source": [
    "## 5. Graph RAG, taking advantage of linked data structure for RAG."
   ]
  },
  {
   "cell_type": "markdown",
   "id": "0ca18065",
   "metadata": {},
   "source": [
    "### 5.1. Visualizing graph-generated article texts."
   ]
  },
  {
   "cell_type": "markdown",
   "id": "d64c5951",
   "metadata": {},
   "source": [
    "#### For sanity we count the number of unique article nodes in the graph and compare it to the number of articles in the txt-files."
   ]
  },
  {
   "cell_type": "code",
   "execution_count": 15,
   "id": "0a058b3d",
   "metadata": {},
   "outputs": [
    {
     "name": "stdout",
     "output_type": "stream",
     "text": [
      "Number of articles in graph: 650\n",
      "Number of articles counted from txt files directly: 652\n"
     ]
    }
   ],
   "source": [
    "#Count articles in txt files relative to graph.\n",
    "from pathlib import Path\n",
    "from utils import GRAPH_IRI, DS, RDF, DEF, split_articles\n",
    "graph = DS.graph(GRAPH_IRI)\n",
    "counter = 0\n",
    "for _ in graph.subjects(RDF.type,DEF.LawArticle):\n",
    "    counter+=1\n",
    "print(\"Number of articles in graph:\",counter)\n",
    "\n",
    "#Count articles in txt files relative to graph.\n",
    "DOC_PATH = Path(\"data/texts\")\n",
    "counter = 0\n",
    "for law_file in sorted(DOC_PATH.glob(\"*.txt\")):\n",
    "    law_text = law_file.read_text(encoding=\"utf-8\")\n",
    "    articles = split_articles(law_text)\n",
    "    counter+= len(articles)\n",
    "\n",
    "print(\"Number of articles counted from txt files directly:\",counter)"
   ]
  },
  {
   "cell_type": "markdown",
   "id": "a96a6d29",
   "metadata": {},
   "source": [
    "Two articles missing, try finding them if you want. :)"
   ]
  },
  {
   "cell_type": "markdown",
   "id": "7e922df4",
   "metadata": {},
   "source": [
    "#### Here we show the new textual representation of 'Artikel 18a van Wet op loonbelasting 1964'.\n",
    "We add cross-referenced text, meaning more detailed questions can be asked per article."
   ]
  },
  {
   "cell_type": "code",
   "execution_count": 59,
   "id": "7a469e9c",
   "metadata": {},
   "outputs": [
    {
     "name": "stdout",
     "output_type": "stream",
     "text": [
      "\n",
      "This Dutch Law article has title 'Wet op loonbelasting 1964, 2025-01-01, Artikel 18a' and the following sections between single backtics.\n",
      "I will ask retrieval-based questions about it, encode it for that purpose.\n",
      "`Lid 1: De premie per dienstjaar voor een ouderdomspensioen en een partnerpensioen bij overlijden op of na pensioendatum bedraagt ten hoogste 30% van de pensioengrondslag. Bij of krachtens algemene maatregel van bestuur kunnen regels worden gesteld met betrekking tot de kosten die zijn begrepen in de premie, bedoeld in de eerste zin.\n",
      "Lid 10: Indien in enig jaar minder premie in aanmerking is genomen dan mogelijk was op grond van het eerste lid, kan het niet in aanmerking genomen bedrag alsnog in aanmerking worden genomen, voor zover dit niet in een eerder jaar op grond van dit lid in aanmerking is genomen.\n",
      "Lid 2: De pensioengrondslag bestaat uit het pensioengevend loon verminderd met de franchise.\n",
      "Lid 3: De franchise, bedoeld in het tweede lid, bedraagt € 18.475. Dit bedrag wordt bij het begin van het kalenderjaar bij ministeriële regeling vervangen door een ander bedrag. Dit bedrag wordt berekend door de voor dat jaar geldende uitkeringen voor gehuwde personen zonder toeslag als omschreven in artikel 9, eerste lid, onderdeel b, en vijfde lid, van de Algemene Ouderdomswet, vermeerderd met de vakantietoeslag, te vermenigvuldigen met de factor 100/75. Bij dienstbetrekkingen in deeltijd wordt dit bedrag verminderd overeenkomstig de deeltijdfactor. Bij of krachtens algemene maatregel van bestuur kan worden bepaald dat een lager bedrag in aanmerking kan worden genomen dan het bedrag, genoemd in de eerste zin, indien een lager percentage per dienstjaar wordt toegepast dan het percentage, genoemd in het eerste lid.\n",
      "Lid 4: Een ouderdomspensioen:\n",
      "  - a. gaat niet eerder in dan op de eerste dag van de kalendermaand waarin de werknemer of gewezen werknemer de leeftijd bereikt die tien jaar lager is dan de voor het betreffende kalenderjaar geldende pensioengerechtigde leeftijd, bedoeld in artikel 7a, eerste lid, van de Algemene Ouderdomswet, tenzij in de pensioenregeling een eerdere ingangsdatum als uiterlijke ingangsdatum is opgenomen; en\n",
      "  - b. gaat niet later in dan op het tijdstip waarop de werknemer of gewezen werknemer de leeftijd bereikt die vijf jaar hoger is dan de pensioengerechtigde leeftijd, bedoeld in artikel 7a, eerste lid, van de Algemene Ouderdomswet.\n",
      "Lid 5: Een partnerpensioen bij overlijden op of na pensioendatum gaat niet eerder in dan op de eerste dag van de kalendermaand waarin de werknemer of gewezen werknemer is overleden en gaat niet later in dan op de eerste dag van de maand volgend op de kalendermaand waarin de werknemer of gewezen werknemer is overleden.\n",
      "Lid 6: Het percentage, genoemd in het eerste lid, wordt bij of krachtens algemene maatregel van bestuur elke vijf jaar, bij het begin van het kalenderjaar, voor het eerst per 1 januari 2037, gewijzigd. Een wijziging ingevolge de eerste zin wordt bekendgemaakt ten minste drie kalenderjaren voordat deze toepassing vindt. Het percentage, genoemd in het eerste lid, wordt bepaald aan de hand van de volgende tabel waarbij het rendement voor de toepassing van deze tabel wordt bepaald per 1 oktober (peildatum) van het derde kalenderjaar voorafgaande aan het kalenderjaar van wijziging op basis van het 27e percentiel van de per scenario bepaalde gemiddelde jaarlijkse netto reële rendementsverwachting over de eerste zestig jaar in de meest recente door De Nederlandsche Bank gepubliceerde scenarioset, gebaseerd op artikel 144, eerste lid, onderdeel d, van de Pensioenwet, uitgaande van een portefeuille voor de helft bestaande uit risicovrije AAA-staatsobligaties met een looptijd van 30 jaar en voor de helft bestaande uit beursgenoteerde aandelen.\n",
      "Lid 7: Het percentage, genoemd in het eerste lid, wordt bij of krachtens algemene maatregel van bestuur eveneens gewijzigd indien het bij overeenkomstige toepassing van het zesde lid resulterende percentage, jaarlijks te bepalen per 1 oktober (peildatum), meer dan 5%-punt hoger of lager uitkomt dan het percentage, genoemd in het eerste lid, of het meest recente op grond van het zesde lid bekendgemaakte percentage. Een wijziging ingevolge de eerste zin wordt bekendgemaakt ten minste drie kalenderjaren voordat deze toepassing vindt. Na een wijziging van het percentage ingevolge de eerste zin begint een nieuwe vijfjaarstermijn als bedoeld in het zesde lid.\n",
      "Lid 8: Een verhoging of een verlaging van het percentage, genoemd in het eerste lid, als gevolg van toepassing van het zesde of zevende lid, werkt niet terug voor dienstjaren voor het tijdstip van die verhoging of verlaging.\n",
      "Lid 9: Een verhoging of een verlaging van de pensioengrondslag, bedoeld in het tweede lid, werkt niet terug voor dienstjaren die voor het tijdstip van die verhoging of verlaging zijn geëindigd.`\n",
      "\n",
      " This article contains cross-references to the following articles, each given between triple backtics, first article: ```\n",
      "This Dutch Law article has title 'Algemene ouderdomswet, 2025-01-01, Artikel 9' and the following sections between single backtics.\n",
      "I will ask retrieval-based questions about it, encode it for that purpose.\n",
      "`Lid 1: Deze wet kent een bruto-ouderdomspensioen voor:\n",
      "  - a. de ongehuwde pensioengerechtigde;\n",
      "  - b. de gehuwde pensioengerechtigde.\n",
      "Lid 2: De in het eerste lid bedoelde ouderdomspensioenen worden afgeleid van het netto-minimumloon per maand.\n",
      "Lid 3: Onder het netto-minimumloon wordt verstaan het bruto-minimumloon, na aftrek van premies op grond van de Wet financiering sociale verzekeringen en loonbelasting.\n",
      "Lid 4: De loonbelasting en premie voor de volksverzekeringen, bedoeld in artikel 2 van de Wet financiering sociale verzekeringen, worden berekend voor een werknemer, jonger dan de pensioengerechtigde leeftijd, rekening houdend met uitsluitend tweemaal de algemene heffingskorting, bedoeld in artikel 22 van de Wet op de loonbelasting 1964, over het bruto-minimumloon.\n",
      "Lid 5: De bruto-ouderdomspensioenen worden zodanig vastgesteld, dat na aftrek van de in te houden loonbelasting en premie voor de volksverzekeringen, rekening houdend met de toepasselijke heffingskortingen voor een persoon van de pensioengerechtigde leeftijd en ouder, en van de inkomensafhankelijke bijdrage, bedoeld in artikel 41 van de Zorgverzekeringswet:\n",
      "  - a. het netto-ouderdomspensioen per maand van een pensioengerechtigde als bedoeld in het eerste lid, onderdeel a, gelijk is aan 70% van het netto-minimumloon per maand;\n",
      "  - b. het netto-ouderdomspensioen per maand van een pensioengerechtigde als bedoeld in het eerste lid, onderdeel b, gelijk is aan 50% van het netto-minimumloon per maand.\n",
      "Lid 6: De volledige bruto-toeslag, bedoeld in artikel 8, is gelijk aan het bruto-ouderdomspensioen voor de pensioengerechtigde, bedoeld in het eerste lid, onderdeel b.\n",
      "Lid 7: Een wijziging van het bruto-ouderdomspensioen in verband met een wijziging van het netto-minimumloon wordt samen met de dag waarop deze wijziging ingaat, door of namens Onze Minister medegedeeld in de Staatscourant.\n",
      "Lid 8: Een wijziging van het bruto-ouderdomspensioen in verband met een wijziging van het netto-minimumloon vindt plaats zonder dat dit bij beschikking is vastgesteld.\n",
      "Lid 9: De Sociale verzekeringsbank betaalt het gewijzigde ouderdomspensioen, bedoeld in het achtste lid, bij de eerstvolgende betaling van het ouderdomspensioen nadat de wijziging, bedoeld in het achtste lid, heeft plaatsgevonden.`\n",
      "```.\n",
      " next cross-referenced article: ```\n",
      "This Dutch Law article has title 'Algemene ouderdomswet, 2025-01-01, Artikel 7a' and the following sections between single backtics.\n",
      "I will ask retrieval-based questions about it, encode it for that purpose.\n",
      "`Lid 1: De pensioengerechtigde leeftijd en de aanvangsleeftijd zijn:\n",
      "  - a. vóór 1 januari 2013: 65, respectievelijk 15 jaar;\n",
      "  - b. in 2013: 65 jaar en één maand, respectievelijk 15 jaar en één maand;\n",
      "  - c. in 2014: 65 jaar en twee maanden, respectievelijk 15 jaar en twee maanden;\n",
      "  - d. in 2015: 65 jaar en drie maanden, respectievelijk 15 jaar en drie maanden;\n",
      "  - e. in 2016: 65 jaar en zes maanden, respectievelijk 15 jaar en zes maanden;\n",
      "  - f. in 2017: 65 jaar en negen maanden, respectievelijk 15 jaar en negen maanden;\n",
      "  - g. in 2018: 66 jaar, respectievelijk 16 jaar;\n",
      "  - h. in 2019: 66 jaar en vier maanden, respectievelijk 16 jaar en vier maanden;\n",
      "  - i. in 2020: 66 jaar en vier maanden, respectievelijk 16 jaar en vier maanden;\n",
      "  - j. in 2021: 66 jaar en vier maanden, respectievelijk 16 jaar en vier maanden;\n",
      "  - k. in 2022: 66 jaar en zeven maanden, respectievelijk 16 jaar en zeven maanden;\n",
      "  - l. in 2023: 66 jaar en tien maanden, respectievelijk 16 jaar en tien maanden;\n",
      "  - m. in 2024: 67 jaar, respectievelijk 17 jaar;\n",
      "  - n. in 2025: 67 jaar, respectievelijk 17 jaar;\n",
      "  - o. in 2026 en de kalenderjaren daarna: de pensioengerechtigde leeftijd en de aanvangsleeftijd, die jaarlijks op basis van de verhoging van de pensioengerechtigde leeftijd en de aanvangsleeftijd op grond van het tweede lid worden vastgesteld.\n",
      "Lid 2: De verhoging van de pensioengerechtigde leeftijd en de aanvangsleeftijd in 2026 en de kalenderjaren daarna wordt jaarlijks, voor de eerste maal uiterlijk op 1 januari 2021 voor het jaar 2026, vastgesteld volgens de formule:\n",
      "Lid 3: De verhoging, bedoeld in het tweede lid, treedt telkens in werking vijf jaar na de uiterste datum van vaststelling, bedoeld in het tweede lid, voor de eerste maal met ingang van 1 januari 2026.\n",
      "Lid 4: De ramingen van de macro gemiddelde resterende levensverwachting, bedoeld in het tweede lid, worden uitgevoerd en bekendgemaakt door het CBS.`\n",
      "```.\n",
      " next cross-referenced article: ```\n",
      "This Dutch Law article has title 'Pensioenwet, 2025-03-01, Artikel 144' and the following sections between single backtics.\n",
      "I will ask retrieval-based questions about it, encode it for that purpose.\n",
      "`Lid 1: Bij algemene maatregel van bestuur worden, ten behoeve van de berekeningen noodzakelijk voor de uitvoering van een pensioenregeling, regels gesteld over:\n",
      "  - a. het minimale percentage van het gemiddelde loon- of prijsindexcijfer;\n",
      "  - b. het maximaal te hanteren gemiddelde rendement op vastrentende waarden;\n",
      "  - c. de maximaal te hanteren risicopremies op onder andere aandelen en onroerend goed; en\n",
      "  - d. een uniforme set met economische scenario’s.\n",
      "Lid 2: De in het eerste lid bedoelde regels worden uiterlijk iedere vijf jaren getoetst, rekening houdend met financieel-economische ontwikkelingen in het verleden en realistische inzichten ten aanzien van toekomstige financieel-economische verwachtingen.\n",
      "Lid 3: Ten behoeve van de toetsing, bedoeld in het tweede lid, stelt Onze Minister een commissie in met toepassing van artikel 6 van de Kaderwet adviescolleges. Onze Minister kan tevens het oordeel van de commissie vragen over de toepassing van de rentetermijnstructuur bij rentes met een lange looptijd.\n",
      "Lid 4: De voordracht voor een krachtens het eerste lid vast te stellen algemene maatregel van bestuur wordt niet eerder gedaan dan vier weken nadat het ontwerp aan beide kamers der Staten-Generaal is overgelegd.`\n",
      "```.\n"
     ]
    }
   ],
   "source": [
    "import importlib, utils\n",
    "importlib.reload(utils)\n",
    "from utils import add_crossref_to_law_nodes, URIRef,GRF, load_dataset, ID\n",
    "g = load_dataset(\"Law_graph\").graph(URIRef(GRF + \"law_graph\"))\n",
    "art_dict = add_crossref_to_law_nodes(g)\n",
    "counter = 0\n",
    "law_node = URIRef(ID+\"WetOpLoonbelasting1964-20250101-18a\")\n",
    "print(art_dict[str(law_node)][0])\n"
   ]
  },
  {
   "cell_type": "markdown",
   "id": "43ebaaa9",
   "metadata": {},
   "source": [
    "This is the new textual representation takes advantage of linked-data structure and contains cross-referenced articles."
   ]
  },
  {
   "cell_type": "markdown",
   "id": "4a4780f2",
   "metadata": {},
   "source": [
    "### 5.2. Create vector store for Graph RAG\n",
    "#### Here we create graph-based vector-stores, takes 3+ minutes, do not rerun."
   ]
  },
  {
   "cell_type": "code",
   "execution_count": 54,
   "id": "f2605c15",
   "metadata": {},
   "outputs": [
    {
     "name": "stdout",
     "output_type": "stream",
     "text": [
      "225.51096153259277 mxbai embeddings done.\n"
     ]
    }
   ],
   "source": [
    "# import time\n",
    "# from utils import create_vector_store, MXBAI_EMBEDDINGS\n",
    "# t0 = time.time()\n",
    "# create_vector_store(MXBAI_EMBEDDINGS)\n",
    "# print(time.time()-t0, \"mxbai embeddings done.\")"
   ]
  },
  {
   "cell_type": "markdown",
   "id": "abf3321d",
   "metadata": {},
   "source": [
    "### 5.3. Comparing normal RAG to Graph RAG"
   ]
  },
  {
   "cell_type": "code",
   "execution_count": null,
   "id": "87e25266",
   "metadata": {},
   "outputs": [
    {
     "name": "stdout",
     "output_type": "stream",
     "text": [
      "Q: Wat is de franchise, en hoe wordt het precies berekend? Welke regels gelden er voor het nettopensioen? Hou het antwoord onder de 150 woorden.\n",
      "------ RAG without graph ------\n",
      "\n",
      "--- Performance ---\n",
      "{\n",
      "  \"scenario\": \"Normale RAG\",\n",
      "  \"input tokens\": 1717,\n",
      "  \"output tokens\": 164,\n",
      "  \"USD cost\": 0.000712,\n",
      "  \"elapsed seconds\": 2.18\n",
      "}\n",
      "\n",
      "--- Answer normal RAG ---\n",
      "A: De franchise bedraagt € 18.475 en wordt jaarlijks bij ministeriële regeling aangepast. De nieuwe franchise wordt berekend door de voor dat jaar\n",
      "geldende uitkeringen voor gehuwde personen zonder toeslag, vermeerderd met vakantietoeslag, te vermenigvuldigen met de factor 100/75. Voor\n",
      "deeltijdwerkers wordt dit bedrag verminderd op basis van de deeltijdfactor.  Voor het nettopensioen geldt dat de pensioengrondslag bestaat uit het\n",
      "pensioengevend loon minus de franchise. De premie voor ouderdomspensioen en partnerpensioen bedraagt maximaal 30% van de pensioengrondslag. Dit\n",
      "percentage kan elke vijf jaar worden aangepast op basis van rendementen, met een wijziging die ten minste drie jaar van tevoren wordt aangekondigd.\n",
      "------ Graph RAG ------\n",
      "\n",
      "--- Performance ---\n",
      "{\n",
      "  \"scenario\": \"Graph RAG\",\n",
      "  \"input tokens\": 13479,\n",
      "  \"output tokens\": 196,\n",
      "  \"USD cost\": 0.004279,\n",
      "  \"elapsed seconds\": 2.571\n",
      "}\n",
      "\n",
      "--- Answer Graph RAG ---\n",
      "A: De franchise bedraagt € 18.475 en wordt jaarlijks bij ministeriële regeling aangepast. De aanpassing is gebaseerd op de voor dat jaar geldende\n",
      "uitkeringen voor gehuwde personen zonder toeslag, vermeerderd met vakantietoeslag, en vermenigvuldigd met de factor 100/75. Bij deeltijdwerk wordt dit\n",
      "bedrag verminderd op basis van de deeltijdfactor.  Voor het nettopensioen geldt dat het bruto-ouderdomspensioen na aftrek van loonbelasting en premies\n",
      "voor volksverzekeringen wordt vastgesteld. Het netto-ouderdomspensioen voor ongehuwde pensioengerechtigden is 70% van het netto-minimumloon, terwijl\n",
      "dit voor gehuwde pensioengerechtigden 50% is. Wijzigingen in het bruto-ouderdomspensioen door veranderingen in het netto-minimumloon worden zonder\n",
      "beschikking vastgesteld en gecommuniceerd in de Staatscourant.\n"
     ]
    }
   ],
   "source": [
    "#RAG: Without using graph.\n",
    "import time\n",
    "import json\n",
    "from utils import rag_executor, MXBAI_STORE_NONGRAPH, llm_metrics, wrap_at_spaces,MXBAI_STORE_GRAPH\n",
    "\n",
    "start = time.time()\n",
    "QUESTION = (\"Wat is de franchise, en hoe wordt het precies berekend? \" \\\n",
    "\"Welke regels gelden er voor het nettopensioen? Hou het antwoord onder de 150 woorden.\")\n",
    "answer,top_docs,qa_chain,performance_cache = rag_executor(QUESTION,store = MXBAI_STORE_NONGRAPH)\n",
    "\n",
    "print(\"Q:\", QUESTION)\n",
    "print ( \"------ RAG without graph -------\")\n",
    "# print(f\"\\n--- Top {len(top_docs)} documents ---\")\n",
    "# for i,doc in enumerate(top_docs):\n",
    "#     print(f\"{i+1}.\",f\"{textwrap.shorten(str(doc.page_content),150)}\")\n",
    "\n",
    "print(f\"\\n--- Performance ---\")\n",
    "in_tokens = performance_cache[\"in_tokens\"]\n",
    "out_tokens = performance_cache[\"out_tokens\"]\n",
    "elapsed = performance_cache[\"elapsed\"]\n",
    "print(json.dumps(llm_metrics(\"Normale RAG\", in_tokens, out_tokens, elapsed),indent=2))\n",
    "\n",
    "print(f\"\\n--- Answer normal RAG ---\")\n",
    "print(\"A:\", wrap_at_spaces(answer,150))\n",
    "\n",
    "print ( \"------ Graph RAG -------\")\n",
    "answer2,top_docs,qa_chain,performance_cache = rag_executor(QUESTION,store = MXBAI_STORE_GRAPH)\n",
    "# print(f\"\\n--- Top {len(top_docs)} documents ---\")\n",
    "# for i,doc in enumerate(top_docs):\n",
    "#     print(f\"{i+1}.\",f\"{textwrap.shorten(str(doc.page_content),150)}\")\n",
    "\n",
    "print(f\"\\n--- Performance ---\")\n",
    "in_tokens = performance_cache[\"in_tokens\"]\n",
    "out_tokens = performance_cache[\"out_tokens\"]\n",
    "elapsed = performance_cache[\"elapsed\"]\n",
    "print(json.dumps(llm_metrics(\"Graph RAG\", in_tokens, out_tokens, elapsed),indent=2))\n",
    "\n",
    "print(f\"\\n--- Answer Graph RAG ---\")\n",
    "print(\"A:\", wrap_at_spaces(answer2,150))"
   ]
  },
  {
   "cell_type": "markdown",
   "id": "3f4db873",
   "metadata": {},
   "source": [
    "**Normal RAG**: General answer, does not provide exact details about 'nettopensioen' due to absence of information.\n",
    "\n",
    "**Graph RAG**: Correct answer, takes advantage of linked-data structure. "
   ]
  },
  {
   "cell_type": "markdown",
   "id": "fb3808b3",
   "metadata": {},
   "source": [
    "## 6. Wrap‑up / Key takeaways ✅  \n",
    "\n",
    "* **Direct prompting** on entire laws is cost‑heavy and hits context limits.  \n",
    "* **Chunking** improves alignment but sacrifices latency.  \n",
    "* **RAG** with a high‑quality embedding model (MXBAI) gives the *best accuracy‑per‑dollar*.  \n",
    "* **Graph RAG** takes this a step further by integrating information from cross-referenced articles in the article embeddings.\n",
    "* Graph RAG due to stacking cross-referenced article has a higher token cost and is slightly slower, yet provides the LLM with a more relevant information to answer in more detail.\n",
    "\n",
    "Feel free to extend the notebook by  \n",
    "* replacing placeholder accuracies with manual grading,  \n",
    "* adding caching for embeddings,  \n",
    "* deploying the FAISS index as an API.  \n"
   ]
  }
 ],
 "metadata": {
  "kernelspec": {
   "display_name": ".venv",
   "language": "python",
   "name": "python3"
  },
  "language_info": {
   "codemirror_mode": {
    "name": "ipython",
    "version": 3
   },
   "file_extension": ".py",
   "mimetype": "text/x-python",
   "name": "python",
   "nbconvert_exporter": "python",
   "pygments_lexer": "ipython3",
   "version": "3.12.6"
  }
 },
 "nbformat": 4,
 "nbformat_minor": 5
}
