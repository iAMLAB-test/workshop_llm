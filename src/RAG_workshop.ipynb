{
 "cells": [
  {
   "cell_type": "markdown",
   "id": "69e56202",
   "metadata": {},
   "source": [
    "# RAG Workshop – Dutch Pension Law  \n",
    "Author: *Generated on 2025-04-30*  \n",
    "\n",
    "This notebook accompanies an internal workshop on **Retrieval‑Augmented Generation (RAG)** with Dutch pension‑related law texts from [wetten.overheid.nl](https://wetten.overheid.nl).  \n",
    "You will need:\n",
    "\n",
    "* Python 3.10+  \n",
    "* `openai`, `azure‑identity`, `langchain`, `langchain‑community`, `langchain‑huggingface`,`langchain_openai`, `tiktoken`, `rdflib`, `faiss-cpu`,`numpy`\n",
    "\n",
    "Using `config_template.yaml` fill it's contexts (provided seperately) and save under `config.yaml`, necessary to run gpt models:\n",
    "\n",
    "1. **Configure environment**\n",
    "   ```bash\n",
    "   # This is a template configuration file for the Azure OpenAI API.\n",
    "   # Fill in the placeholders with your actual configuration values.\n",
    "   # Then save the file as 'config.yaml' in the same directory.\n",
    "   AZURE_ENDPOINT: [Enter your Azure endpoint here]\n",
    "\n",
    "   ## Decoder\n",
    "   API_VERSION_DECODER: [Enter your API version here]\n",
    "   API_KEY_DECODER: [Enter your API key here]\n",
    "\n",
    "   ## Encoder\n",
    "   API_VERSION_ENCODER: [Enter your API version here]\n",
    "   API_KEY_ENCODER: [Enter your API key here]\n",
    "   ```\n",
    "2. Next run the cell below to install dependencies."
   ]
  },
  {
   "cell_type": "code",
   "execution_count": null,
   "id": "dfd88990",
   "metadata": {},
   "outputs": [],
   "source": [
    "%pip install -r requirements.txt"
   ]
  },
  {
   "cell_type": "markdown",
   "id": "4d3c1e4d",
   "metadata": {},
   "source": [
    "### Simple LLM call."
   ]
  },
  {
   "cell_type": "code",
   "execution_count": 2,
   "id": "e1039e6a",
   "metadata": {},
   "outputs": [
    {
     "name": "stdout",
     "output_type": "stream",
     "text": [
      "Sure! Here’s \"Hello world\" in five different languages:\n",
      "\n",
      "1. English: Hello world\n",
      "2. Spanish: Hola mundo\n",
      "3. French: Bonjour le monde\n",
      "4. German: Hallo Welt\n",
      "5. Italian: Ciao mondo\n"
     ]
    }
   ],
   "source": [
    "#Prompting API example.\n",
    "from utils import gpt_4o_mini\n",
    "\n",
    "query = \"Say 'Hello world' in five different languages.\"\n",
    "print(gpt_4o_mini(query).choices[0].message.content)"
   ]
  },
  {
   "cell_type": "markdown",
   "id": "81016e16",
   "metadata": {},
   "source": [
    "## 1 – Layout of Dutch law texts  \n",
    "We will inspect local `.txt` dumps in `data/docs/`. Each file contains **one complete law** (some > 60 k tokens).\n",
    "\n",
    "Below we load the all three files and print a *single article* per file to understand the structure."
   ]
  },
  {
   "cell_type": "markdown",
   "id": "7f16bfcf",
   "metadata": {},
   "source": [
    "### Random article from input law texts.\n",
    "\n",
    "Here we show, using the three law texts, one random article from each."
   ]
  },
  {
   "cell_type": "code",
   "execution_count": 3,
   "id": "7d70b85b",
   "metadata": {},
   "outputs": [
    {
     "name": "stdout",
     "output_type": "stream",
     "text": [
      "\n",
      "--- Pensioenswet.txt, total articles 323 ---\n",
      "Artikel 220c.\n",
      "Overgangsrecht implementatie richtlijn 2016/2341/EU  [Vervallen per 01-01-2020]\n",
      "\n",
      "--- Uitvoeringsbesluit loonbelasting 1965.txt, total articles 50 ---\n",
      "Artikel 11\n",
      "1.      De loonbelasting wordt mede geheven van natuurlijke personen die de navolgende tot het\n",
      "belastbare inkomen uit werk en woning dan wel het belastbare inkomen uit werk en woning in Nederland\n",
      "in de zin van de Wet inkomstenbelasting 2001 behorende inkomsten genieten:         a.      de\n",
      "navolgende termijnen van lijfrenten en andere periodieke uitkeringen en verstrekkingen, negatieve\n",
      "uitgaven voor inkomensvoorzieningen en afkoopsommen:                 1°.     termijnen van\n",
      "lijfrenten verstrekt door een verzekeraar als bedoeld in artikel 1:1 van de Wet op het financieel\n",
      "toezicht, alsmede termijnen als bedoeld in artikel 3.126a, vierde, vijfde en zesde lid, van de Wet\n",
      "inkomstenbelasting 2001 verstrekt door een bank, beleggingsonderneming of beheerder als bedoeld in\n",
      "artikel 3.126a van die wet;                 2°.     periodieke uitkeringen en verstrekkingen ter\n",
      "zake van invaliditeit, ziekte of ongeval als bedoeld in artikel 3.100, eerste lid, onderdeel b, van\n",
      "de Wet inkomstenbelasting 2001, verstrekt door een verzekeraar als bedoeld in artikel 1:1 van de Wet\n",
      "op het financieel toezicht;                 3°.     negatieve uitgaven voor inkomensvoorzieningen\n",
      "ter zake van een afkoop als bedoeld in artikel 3.133, tweede lid, onderdeel d, van de Wet\n",
      "inkomstenbelasting 2001, indien de afkoopsom is verstrekt door een verzekeraar als bedoeld in\n",
      "artikel 1:1 van de Wet op het financieel toezicht; daarbij wordt de loonbelasting geheven over de\n",
      "afkoopsom;                 4°.     uitkeringen die worden verstrekt door een bank,\n",
      "beleggingsonderneming of beheerder als bedoeld in artikel 3.126a van de Wet inkomstenbelasting 2001\n",
      "en die ingevolge artikel 3.133, achtste lid, van die wet worden aangemerkt als negatieve uitgaven\n",
      "voor inkomensvoorzieningen;                 5°.     afkoopsommen ter zake van lijfrenten verstrekt\n",
      "door een verzekeraar als bedoeld in artikel 1:1 van de Wet op het financieel toezicht, voor zover\n",
      "met betrekking tot die afkoopsommen ingevolge hoofdstuk 2, artikel I, onderdeel O, eerste lid,\n",
      "aanhef en onderdeel a, van de Invoeringswet Wet inkomstenbelasting 2001 en artikel 75 van de Wet op\n",
      "de inkomstenbelasting 1964 de regels die daarvoor golden op 31 december 1991 van toepassing blijven;\n",
      "6°.     periodieke uitkeringen en verstrekkingen en afkoopsommen daarvan verstrekt door een\n",
      "verzekeraar als bedoeld in artikel 1:1 van de Wet op het financieel toezicht, voor zover met\n",
      "betrekking tot die uitkeringen of verstrekkingen ingevolge hoofdstuk 2, artikel I, onderdeel O,\n",
      "eerste lid, aanhef en onderdeel b of d, van de Invoeringswet Wet inkomstenbelasting 2001 de regels\n",
      "die daarvoor golden op 31 december 2000 op grond van de Wet op de inkomstenbelasting 1964 van\n",
      "toepassing blijven;         b.      uitkeringen ingevolge de Ziektewet en ingevolge de Ongevallenwet\n",
      "1921, de Land- en Tuinbouwongevallenwet 1922 en de Zeeongevallenwet 1919 in verbinding met de\n",
      "Liquidatiewet ongevallenwetten;         c.      uitkeringen ingevolge de Algemene Ouderdomswet, de\n",
      "Algemene nabestaandenwet, hoofdstuk 3, afdeling 2, paragraaf 2, artikelen 4:2b, zevende lid, en 6:3,\n",
      "zevende lid, van de Wet arbeid en zorg, de Wet werk en inkomen naar arbeidsvermogen, de Wet op de\n",
      "arbeidsongeschiktheidsverzekering en de Wet arbeidsongeschiktheidsverzekering zelfstandigen en\n",
      "uitkeringen of inkomensvoorzieningen ingevolge de Wet arbeidsongeschiktheidsvoorziening\n",
      "jonggehandicapten;         d.      uitkeringen ingevolge de Wet buitengewoon pensioen 1940-1945,\n",
      "ingevolge de Wet buitengewoon pensioen zeelieden-oorlogsslachtoffers en ingevolge de Wet\n",
      "buitengewoon pensioen Indisch verzet;         e.      uitkeringen ingevolge een pensioenregeling\n",
      "waaraan wordt deelgenomen op grond van artikel 150a van de Pensioenwet;         f.      uitkeringen\n",
      "ingevolge de Algemene Oorlogsongevallenregeling (Staatsblad van Nederlandsch-Indië 1946 (nr. 48) en\n",
      "de beschikking van de Luitenant-Gouverneur-Generaal van Nederlandsch-Indië van 5 november 1946, nr.\n",
      "6 (Staatsblad van Nederlandsch-Indië 1946, nr. 118), alsmede op deze uitkeringen betrekking hebbende\n",
      "toe- en bijslagen;         g.      uitkeringen ingevolge de Participatiewet, alsmede de in artikel\n",
      "3a bedoelde uit het familierecht voortvloeiende periodieke uitkeringen of verstrekkingen;         h.\n",
      "uitkeringen ingevolge de Werkloosheidswet;         i.      uitkeringen uit de Stichting 1940-1945,\n",
      "de Stichting Friesland 1940-1945 en de Stichting Hulp voor nagelaten betrekkingen voor illegale\n",
      "strijders (Stichting Sneek 1940-1945);         j.      uitkeringen ingevolge een pensioenregeling\n",
      "waaraan wordt deelgenomen op grond van de Wet op het notarisambt;         k.      uitkeringen\n",
      "ingevolge een pensioenregeling waaraan wordt deelgenomen op grond van de Wet verplichte\n",
      "beroepspensioenregeling;         l.      uitkeringen ingevolge de Wet uitkeringen\n",
      "vervolgingsslachtoffers 1940-1945 en ingevolge de Wet uitkeringen burger-oorlogsslachtoffers\n",
      "1940-1945;         m.      uitkeringen ingevolge de Remigratiewet en de Remigratieregeling 1985;\n",
      "n.      uitkeringen ingevolge de Toeslagenwet;         o.      uitkeringen ingevolge de Wet\n",
      "inkomensvoorziening oudere en gedeeltelijk arbeidsongeschikte werkloze werknemers en ingevolge de\n",
      "Wet inkomensvoorziening oudere en gedeeltelijk arbeidsongeschikte gewezen zelfstandigen;         p.\n",
      "uitkeringen verstrekt door de Conterganstiftung für behinderte Menschen;         q.\n",
      "[vervallen;]         r.      [vervallen;]         s.      inkomensondersteunende uitkeringen\n",
      "ingevolge artikel 108, eerste lid, van de Gemeentewet;         t.      uitkeringen ingevolge de Wet\n",
      "inkomensvoorziening oudere werklozen;         u.      uitkeringen ingevolge een pensioenregeling\n",
      "waaraan wordt deelgenomen op grond van de Wet verplichte deelneming in een bedrijfstakpensioenfonds\n",
      "2000;         v.      tegemoetkomingen ingevolge artikel 33a van de Algemene Ouderdomswet;\n",
      "w.      uitkeringen in verband met de Wet verhoging AOW- en pensioenrichtleeftijd op grond van de\n",
      "artikelen 3 en 9 van de Kaderwet SZW-subsidies;         x.      uitkeringen op grond van de Gesetz\n",
      "zur Zahlbarmachung von Renten aus Beschäftigungen in einem Ghetto;         y.      uitkeringen op\n",
      "grond van de Bundesgesetz zur Entschädigung für auf dem Gebiet des ehemaligen Deutschen Reiches\n",
      "lebende Opfer der NS-Verfolgung;         z.      uitkeringen uit het Härtefonds für rassisch\n",
      "Verfolgte nicht jüdischen Glaubens;         aa.     uitkeringen op grond van artikel 3 van het\n",
      "Besluit bijzondere militaire pensioenen of op grond van de artikelen 8 of 11, tweede lid, van het\n",
      "Besluit aanvullende arbeidsongeschiktheids- en invaliditeitsvoorzieningen militairen.  2.      De in\n",
      "het eerste lid bedoelde inkomsten worden aangemerkt als loon uit vroegere arbeid.\n",
      "\n",
      "--- Wet op loonbelasting 1964.txt, total articles 169 ---\n",
      "Artikel 18ga\n",
      "1.      Als pensioengevend loon als bedoeld in de artikelen 18a, 18b en 18c wordt ten hoogste een\n",
      "bedrag van € 137.800 in aanmerking genomen. Bij dienstbetrekkingen in deeltijd wordt dit bedrag\n",
      "verminderd overeenkomstig de deeltijdfactor.  2.      Het in het eerste lid vermelde bedrag wordt\n",
      "bij het begin van het kalenderjaar bij ministeriële regeling vervangen door een ander bedrag. Dit\n",
      "bedrag wordt berekend door het te vervangen bedrag te vermenigvuldigen met de\n",
      "contractloonontwikkelingsfactor, bedoeld in artikel 10.2b, tweede lid, van de Wet inkomstenbelasting\n",
      "2001, en vervolgens de nodig geachte afronding aan te brengen. Indien in het voorafgaande jaar een\n",
      "dergelijke afronding is toegepast, kan bij vervanging worden uitgegaan van het niet-afgeronde\n",
      "bedrag.\n"
     ]
    }
   ],
   "source": [
    "from pathlib import Path\n",
    "import random\n",
    "from utils import split_articles, wrap_at_spaces\n",
    "\n",
    "# Load a law text file.\n",
    "DOC_PATH = Path(\"data/docs\")\n",
    "for law_file in sorted(DOC_PATH.glob(\"*.txt\")):\n",
    "    law_text = law_file.read_text(encoding=\"utf-8\")\n",
    "    articles = split_articles(law_text)  # drop preamble\n",
    "\n",
    "    example_idx = random.randrange(len(articles))\n",
    "    article_key = list(articles.keys())[example_idx]\n",
    "    print(f\"\\n--- {law_file.name}, total articles {len(articles)} ---\")\n",
    "    print(article_key)\n",
    "    print(wrap_at_spaces(articles[article_key],width=100))"
   ]
  },
  {
   "cell_type": "markdown",
   "id": "8ddb1b6e",
   "metadata": {},
   "source": [
    "### Count tokens per file.\n",
    "\n",
    "Given our working dataset, we show the number of tokens per law text below."
   ]
  },
  {
   "cell_type": "code",
   "execution_count": 4,
   "id": "1dbf9263",
   "metadata": {},
   "outputs": [
    {
     "name": "stdout",
     "output_type": "stream",
     "text": [
      "Pensioenswet.txt: 126338 tokens\n",
      "Uitvoeringsbesluit loonbelasting 1965.txt: 20766 tokens\n",
      "Wet op loonbelasting 1964.txt: 64790 tokens\n",
      "\n",
      "Total tokens across all files: 211894\n"
     ]
    }
   ],
   "source": [
    "# Token count\n",
    "from utils import count_tokens_in_docs\n",
    "\n",
    "print(count_tokens_in_docs())"
   ]
  },
  {
   "cell_type": "markdown",
   "id": "4280cb3d",
   "metadata": {},
   "source": [
    "## 2 – Direct LLM retrieval vs. Article‑wise retrieval  \n",
    "We compare:\n",
    "\n",
    "1. **Whole‑law prompt** – push the complete text (~60 k tokens)                                                 → costly ❌ fast ✔️ accurate ❌  \n",
    "2. **Chunked/article prompts** – iterate per article                                                            → costly ❌ slow ❌ accurate ✔️  \n",
    "3. **RAG** - use article text embeddings to identify five most relevant articles before searching per article   → cheap ✔️ fast ✔️ accurate ✔️  \n",
    "4. **Graph RAG** - Using a law text's linked-data structure                                                     → cheap ✔️ fast ✔️ accurate ✔️\n",
    "\n",
    "We demonstrates examples 3 and 4 at the end of the notebook."
   ]
  },
  {
   "cell_type": "markdown",
   "id": "27e3fb2b",
   "metadata": {},
   "source": [
    "### 2.1. First, using 'naive' full text chunking in one large system prompt."
   ]
  },
  {
   "cell_type": "code",
   "execution_count": 5,
   "id": "d8fb1b0f",
   "metadata": {},
   "outputs": [
    {
     "name": "stdout",
     "output_type": "stream",
     "text": [
      "Q Wat is de franchise, welk artikel gebruik je ervoor en wat zijn uitzonderingen op de wettelijke waarde? Hou het antwoord onder de 50 woorden.\n",
      "A: De franchise bedraagt €18.475 (artikel 18a). Uitzonderingen op de wettelijke waarde zijn als de\n",
      "pensioenregeling niet voldoet aan de vastgestelde begrenzingen, of als de regeling voorziet in\n",
      "specifieke omstandigheden zoals arbeidsongeschiktheid of bij verlies van aanspraken door scheiding.\n",
      "\n",
      "--- Performance ---\n",
      "{\n",
      "  \"scenario\": \"Hele wetstekst ingeladen\",\n",
      "  \"input tokens\": 48515,\n",
      "  \"output tokens\": 63,\n",
      "  \"USD cost\": 0.01463,\n",
      "  \"elapsed seconds\": 3.215\n",
      "}\n"
     ]
    }
   ],
   "source": [
    "import time\n",
    "import json\n",
    "from utils import gpt_4o_mini, llm_metrics,wrap_at_spaces\n",
    "\n",
    "QUESTION = \"Wat is de franchise, welk artikel gebruik je ervoor en wat zijn uitzonderingen op de wettelijke waarde? Hou het antwoord onder de 50 woorden.\"\n",
    "\n",
    "# --- Whole law ---\n",
    "with open(\"data/docs/Wet op loonbelasting 1964.txt\", \"r\", encoding=\"utf-8\") as f:\n",
    "    law_text = f.read()\n",
    "    start = time.time()\n",
    "    response = gpt_4o_mini(user_message=QUESTION,law_text = law_text)\n",
    "\n",
    "    elapsed = time.time()-start\n",
    "    out_tokens = response.usage.completion_tokens\n",
    "    in_tokens = response.usage.prompt_tokens\n",
    "    print(f\"Q {QUESTION}\")\n",
    "    print(f\"A: {wrap_at_spaces(response.choices[0].message.content,100)}\")\n",
    "    print(f\"\\n--- Performance ---\")\n",
    "    print(json.dumps(llm_metrics(\"Hele wetstekst ingeladen\", in_tokens, out_tokens, elapsed),indent=2))"
   ]
  },
  {
   "cell_type": "markdown",
   "id": "65893cad",
   "metadata": {},
   "source": [
    "#### Answer incorrect!"
   ]
  },
  {
   "cell_type": "markdown",
   "id": "5764d5f1",
   "metadata": {},
   "source": [
    "### 2.2. Second, by looping per article section."
   ]
  },
  {
   "cell_type": "code",
   "execution_count": 6,
   "id": "cbe405be",
   "metadata": {},
   "outputs": [
    {
     "name": "stdout",
     "output_type": "stream",
     "text": [
      "Q Wat is de franchise, en wat zijn uitzonderingen op de wettelijke waarde? Indien deze tekst hier geen expliciete informatie over geeft, antwoord met enkel 'None'. Hou het antwoord onder de 50 woorden.\n",
      "A: De franchise bedraagt € 18.475. Uitzonderingen zijn mogelijk als bij algemene maatregel van bestuur\n",
      "wordt bepaald dat een lager bedrag kan worden toegepast wanneer een lager percentage per dienstjaar\n",
      "geldt dan 30%.\n",
      "\n",
      "--- Performance ---\n",
      "{\n",
      "  \"scenario\": \"Hele wetstekst ingeladen\",\n",
      "  \"input tokens\": 59330,\n",
      "  \"output tokens\": 434,\n",
      "  \"USD cost\": 0.01832,\n",
      "  \"elapsed seconds\": 44.927\n",
      "}\n"
     ]
    }
   ],
   "source": [
    "import time\n",
    "import json\n",
    "from utils import gpt_4o_mini,llm_metrics,wrap_at_spaces,split_articles\n",
    "\n",
    "QUESTION = \"Wat is de franchise, en wat zijn uitzonderingen op de wettelijke waarde? \"+\\\n",
    "\"Indien deze tekst hier geen expliciete informatie over geeft, antwoord met enkel 'None'. Hou het antwoord onder de 50 woorden.\"\n",
    "\n",
    "\n",
    "start = time.time()\n",
    "in_tokens,out_tokens = 0,0\n",
    "answers = []\n",
    "with open(\"data/docs/Wet op loonbelasting 1964.txt\", \"r\", encoding=\"utf-8\") as f:\n",
    "    law_text = f.read()\n",
    "    article_dict = split_articles(law_text)\n",
    "    for key, law_article_text in article_dict.items():\n",
    "        response = gpt_4o_mini(user_message=QUESTION,law_text = law_article_text)\n",
    "        in_tokens += response.usage.prompt_tokens\n",
    "        out_tokens += response.usage.completion_tokens\n",
    "        if \"None\" in str(response.choices[0].message.content):\n",
    "            continue\n",
    "        answers.append((key,response.choices[0].message.content))\n",
    "    elapsed = time.time()-start\n",
    "    llm_metrics(\"Zoeken per artikel\", in_tokens, out_tokens, elapsed)\n",
    "    for key,ans in answers:\n",
    "        print(f\"Q {QUESTION}\")\n",
    "        print(f\"A: {wrap_at_spaces(ans,100)}\")\n",
    "        print(f\"\\n--- Performance ---\")\n",
    "        print(json.dumps(llm_metrics(\"Hele wetstekst ingeladen\", in_tokens, out_tokens, elapsed),indent=2))\n"
   ]
  },
  {
   "cell_type": "markdown",
   "id": "6ff9d673",
   "metadata": {},
   "source": [
    "#### Answer is correct, but takes a long time to find (50+ seconds)."
   ]
  },
  {
   "cell_type": "markdown",
   "id": "68a2b4fa",
   "metadata": {},
   "source": [
    "\n",
    "**Main observations**\n",
    "\n",
    "- The franchise value can be lower than € 18.475 given the premium percentage, this is only observed when looping over articles.\n",
    "- Looping over articles is accurate but takes a long time (50+ seconds in contrast to approximately 3 seconds). Both methods are costly, token-wise."
   ]
  },
  {
   "cell_type": "markdown",
   "id": "ef616e29",
   "metadata": {},
   "source": [
    "## 3. Introduction to RAG"
   ]
  },
  {
   "cell_type": "markdown",
   "id": "d9d49064",
   "metadata": {},
   "source": [
    "\n",
    "A word/sentence embedding is a numerical representation (using a vector) of it's semantic meaning. \n",
    "\n",
    "By creating vector-stores of texts first, one no longer has to rely on word-matching or brute force loop-searching to find the right article containing specific text\n",
    "by simply searching over a small subset of articles with an embedding closest to the question at hand, which is RAG in a nutshell. \n",
    "\n",
    "Cosine similarity measures the (L2) distance between two vectors, in this case word/sentence embeddings. \n",
    "Values are between 0 and 1, with values closer to 1 indicating words/sentences that are similar."
   ]
  },
  {
   "cell_type": "markdown",
   "id": "06f35043",
   "metadata": {},
   "source": [
    "### 3.1. Comparing embeddings ofwords/sentences."
   ]
  },
  {
   "cell_type": "markdown",
   "id": "2d3ec2bb",
   "metadata": {},
   "source": [
    "Change the model parameters to observe differences across similarity metrics."
   ]
  },
  {
   "cell_type": "code",
   "execution_count": 7,
   "id": "55c56a6a",
   "metadata": {},
   "outputs": [
    {
     "name": "stdout",
     "output_type": "stream",
     "text": [
      "--- model: mxbai-embed-large-v1 ---\n",
      "t1: car\n",
      "t2: cat\n",
      "distance 0.7\n",
      "t1: cat \n",
      "t2: kitten \n",
      "distance 0.83\n",
      "t1: cat is a large animal\n",
      "t2: kitten is a large animal\n",
      "distance 0.89\n",
      "t1: cat is a large animal with much fur\n",
      "t2: kitten is a large animal with much fur\n",
      "distance 0.91\n",
      "---\n",
      "t1: rock\n",
      "t2: object that beats scissors in rock paper scissors\n",
      "distance 0.56\n",
      "t1: Tallest building in New York in 1931\n",
      "t2: The Empire State Building\n",
      "distance 0.68\n"
     ]
    }
   ],
   "source": [
    "import numpy as np\n",
    "from utils import text_embedding_3_large\n",
    "from sklearn.metrics.pairwise import cosine_similarity\n",
    "from langchain_huggingface import HuggingFaceEmbeddings\n",
    "\n",
    "# Adjustable parameters\n",
    "model = \"mxbai-embed-large-v1\" #\"mxbai-embed-large-v1\" or \"text_embedding_3_large\"\n",
    "\n",
    "assert model in [\"mxbai-embed-large-v1\",\"text_embedding_3_large\"], \"model must be either 'hf' or 'azure'\"\n",
    "mxbai_emb = HuggingFaceEmbeddings(model_name=\"mixedbread-ai/mxbai-embed-large-v1\")\n",
    "#Test one, same sentence, one different word.\n",
    "print( \"--- model:\",model,\"---\")\n",
    "text_tuple_list = list([(\"car\",\"cat\")]+[(f\"cat {sentence}\",f\"kitten {sentence}\") for sentence in [\"\",\"is a large animal\", \"is a large animal with much fur\"]])\n",
    "for t1,t2 in text_tuple_list:\n",
    "    if model == \"mxbai-embed-large-v1\":\n",
    "        encoder_response = mxbai_emb.embed_documents([t1,t2])\n",
    "        v1,v2 = (np.array(encoder_response[i]).reshape(1,-1) for i in [0,1])\n",
    "    else:\n",
    "        encoder_response = text_embedding_3_large([t1,t2])\n",
    "        v1,v2 = (np.array(encoder_response.data[i].embedding).reshape(1,-1) for i in [0,1])\n",
    "    print(f\"t1: {t1}\")\n",
    "    print(f\"t2: {t2}\")\n",
    "    print(\"distance\",np.round(cosine_similarity(v1,v2)[0,0],2))\n",
    "\n",
    "#Test two, same meaning, different words.\n",
    "print( \"---\")\n",
    "text_tuple_list = list([(\"rock\",\"object that beats scissors in rock paper scissors\"),(\"Tallest building in New York in 1931\",\"The Empire State Building\")])\n",
    "for t1,t2 in text_tuple_list:\n",
    "    if model == \"mxbai-embed-large-v1\":\n",
    "        encoder_response = mxbai_emb.embed_documents([t1,t2])\n",
    "        v1,v2 = (np.array(encoder_response[i]).reshape(1,-1) for i in [0,1])\n",
    "    else:\n",
    "        encoder_response = text_embedding_3_large([t1,t2])\n",
    "        v1,v2 = (np.array(encoder_response.data[i].embedding).reshape(1,-1) for i in [0,1])\n",
    "    print(f\"t1: {t1}\")\n",
    "    print(f\"t2: {t2}\")\n",
    "    print(\"distance\",np.round(cosine_similarity(v1,v2)[0,0],2))"
   ]
  },
  {
   "cell_type": "markdown",
   "id": "caccdc5c",
   "metadata": {},
   "source": [
    "**This cell demonstrates two things:**\n",
    "\n",
    "When keeping one word different but increasing the sentence size, the differing word leads to a smaller difference between the resulting embeddings.\n",
    "\n",
    "Distance between 'similar' sentences using the 'text_embedding_3_large' model seem to be further apart compared to the HuggingFaceEmbeddings 'mxbai-embed-large-v1' model.\n",
    "\n",
    "This can be tested by adjusting the 'model' parameter above."
   ]
  },
  {
   "cell_type": "markdown",
   "id": "32857fec",
   "metadata": {},
   "source": [
    "### 3.2. Creating law article vector stores using both models (takes 3+ minutes on my developer-laptop), do not rerun."
   ]
  },
  {
   "cell_type": "code",
   "execution_count": null,
   "id": "5ad8b86d",
   "metadata": {},
   "outputs": [],
   "source": [
    "# from pathlib import Path\n",
    "# from langchain_community.vectorstores import FAISS\n",
    "# from langchain.text_splitter import RecursiveCharacterTextSplitter\n",
    "# from utils import AZURE_EMBEDDINGS, MXBAI_EMBEDDINGS, split_articles\n",
    "# import os\n",
    "\n",
    "# dir_name = os.getcwd()\n",
    "\n",
    "# # Save law texts seperately to a list and create the underlying vector_stores\n",
    "# DOC_PATH = Path(\"data/docs\")\n",
    "# article_list = []\n",
    "# for law_file in sorted(DOC_PATH.glob(\"*.txt\")):\n",
    "#     law_text = law_file.read_text(encoding=\"utf-8\")\n",
    "#     articles = split_articles(law_text)  # drop preamble\n",
    "#     article_list += [f\"\"\"{law_file.name} {key} {value}\"\"\" for key,value in articles.items()]\n",
    "\n",
    "# # 20000 chosen because the largest law text is 18000 characters.\n",
    "# splitter = RecursiveCharacterTextSplitter(chunk_size=20000, chunk_overlap=0)\n",
    "# documents = splitter.create_documents(article_list)\n",
    "\n",
    "# # 'Vector stores', for now not stored efficiently (using FAISS langchain).\n",
    "# mxbai_store = FAISS.from_documents(documents, MXBAI_EMBEDDINGS,normalize_L2=True)\n",
    "# mxbai_store.save_local(os.path.join(dir_name,\"data/vector_stores/mxbai-embed-large-v1_nongraph.index\"))\n",
    "# azure_store = FAISS.from_documents(documents, AZURE_EMBEDDINGS,normalize_L2=True)\n",
    "# azure_store.save_local(os.path.join(dir_name,\"data/vector_stores/text-embedding-3-large_nongraph.index\"))\n"
   ]
  },
  {
   "cell_type": "markdown",
   "id": "028e7bc3",
   "metadata": {},
   "source": [
    "## 4. Demonstrating RAG using article vector store."
   ]
  },
  {
   "cell_type": "markdown",
   "id": "4f87da14",
   "metadata": {},
   "source": [
    "### 4.1. For the generated vector store shows 5 of the most closely matched articles to the original question."
   ]
  },
  {
   "cell_type": "code",
   "execution_count": null,
   "id": "23e8d9b9",
   "metadata": {},
   "outputs": [
    {
     "name": "stdout",
     "output_type": "stream",
     "text": [
      "\n",
      "--- Top 5 --- mixedbread-ai/mxbai-embed-large-v1\n",
      "1. Wet op loonbelasting 1964.txt Artikel 38s 1. Indien een pensioenregeling op grond van artikel 150f van de Pensioenwet of artikel 145e van de Wet [...]\n",
      "2. Wet op loonbelasting 1964.txt Artikel 18a 1. De premie per dienstjaar voor een ouderdomspensioen en een partnerpensioen bij overlijden op of na [...]\n",
      "3. Pensioenswet.txt Artikel 130. Vermelding premie in jaarrekening en bestuursverslag [Vervallen per 01-07-2023]\n",
      "4. Wet op loonbelasting 1964.txt Artikel 38m [Vervallen per 01-04-2017]\n",
      "5. Wet op loonbelasting 1964.txt Artikel 38j [Vervallen per 01-04-2017]\n",
      "\n",
      "--- Top 5 --- text_embedding_3_large\n",
      "1. Wet op loonbelasting 1964.txt Artikel 18a 1. De premie per dienstjaar voor een ouderdomspensioen en een partnerpensioen bij overlijden op of na [...]\n",
      "2. Pensioenswet.txt Artikel 150l. Standaard invaarpad 1. De wijze waarop wordt omgegaan met opgebouwde pensioenaanspraken en pensioenrechten als [...]\n",
      "3. Wet op loonbelasting 1964.txt Artikel 13 1. Niet in geld genoten loon wordt in aanmerking genomen naar de waarde die daaraan in het economische [...]\n",
      "4. Pensioenswet.txt Artikel 67. Afkoop klein partnerpensioen of wezenpensioen bij ingang 1. De pensioenuitvoerder heeft jegens de nabestaanden het [...]\n",
      "5. Pensioenswet.txt Artikel 79. Plicht tot waardeaanwending bij keuzerecht of keuzemogelijkheid 1. De pensioenuitvoerder is verplicht om op verzoek [...]\n"
     ]
    }
   ],
   "source": [
    "import textwrap\n",
    "from utils import MXBAI_STORE_NONGRAPH, AZURE_STORE_NONGRAPH, topk\n",
    "\n",
    "# number of articles to check\n",
    "n = 5\n",
    "\n",
    "QUESTION = \"Wat is de franchise, welk artikel gebruik je ervoor en wat zijn uitzonderingen op de wettelijke waarde? Hou het antwoord onder de 50 woorden.\"\n",
    "v1 = topk(MXBAI_STORE_NONGRAPH,QUESTION,k=n)\n",
    "v2 = topk(AZURE_STORE_NONGRAPH,QUESTION,k=n)\n",
    "\n",
    "article_list_mxbai = [tup[0].page_content for tup in v1]\n",
    "article_list_azure = [tup[0].page_content for tup in v2]\n",
    "\n",
    "# Pair them distance-first so heapq.nlargest uses the distance as the key\n",
    "dist_list = list(zip([\"mixedbread-ai/mxbai-embed-large-v1\",\"text_embedding_3_large\"],[article_list_mxbai, article_list_azure]))\n",
    "for name,article_list in dist_list:\n",
    "    print(f\"\\n--- Top {n} --- {name}\")\n",
    "    for i, article in enumerate(article_list):\n",
    "        print(f\"{i+1}.\",f\"{textwrap.shorten(article,150)}\")"
   ]
  },
  {
   "cell_type": "markdown",
   "id": "17d60006",
   "metadata": {},
   "source": [
    "#### Article 18a of 'Wet op loonbelasting 1964' is the correct article.\n",
    "The 'text_embedding_3_large' encoder ranks it first, 'mixedbread-ai/mxbai-embed-large-v1' model ranks it second."
   ]
  },
  {
   "cell_type": "markdown",
   "id": "cd47ac57",
   "metadata": {},
   "source": [
    "### 4.2. Putting everything together, using mxbai encoder"
   ]
  },
  {
   "cell_type": "code",
   "execution_count": null,
   "id": "339e4ea9",
   "metadata": {},
   "outputs": [
    {
     "name": "stdout",
     "output_type": "stream",
     "text": [
      "Q: Wat is de franchise, welk artikel gebruik je ervoor en wat zijn uitzonderingen op de wettelijke waarde? Hou het antwoord onder de 50 woorden.\n",
      "A: De franchise bedraagt € 18.475, zoals vermeld in Artikel 18a, lid 3. Uitzonderingen zijn mogelijk bij deeltijdwerk, en een lager bedrag kan worden toegepast als een lager percentage per dienstjaar wordt gebruikt.\n",
      "\n",
      "--- Top 5 documents ---\n",
      "1. Wet op loonbelasting 1964.txt Artikel 38s 1. Indien een pensioenregeling op grond van artikel 150f van de Pensioenwet of artikel 145e van de Wet [...]\n",
      "2. Wet op loonbelasting 1964.txt Artikel 18a 1. De premie per dienstjaar voor een ouderdomspensioen en een partnerpensioen bij overlijden op of na [...]\n",
      "3. Pensioenswet.txt Artikel 130. Vermelding premie in jaarrekening en bestuursverslag [Vervallen per 01-07-2023]\n",
      "4. Wet op loonbelasting 1964.txt Artikel 38m [Vervallen per 01-04-2017]\n",
      "5. Wet op loonbelasting 1964.txt Artikel 38j [Vervallen per 01-04-2017]\n",
      "\n",
      "--- Performance ---\n",
      "{\n",
      "  \"scenario\": \"RAG op wetsartikelen\",\n",
      "  \"input tokens\": 1708,\n",
      "  \"output tokens\": 50,\n",
      "  \"USD cost\": 0.000572,\n",
      "  \"elapsed seconds\": 1.167\n",
      "}\n"
     ]
    }
   ],
   "source": [
    "import time\n",
    "import textwrap\n",
    "import json\n",
    "from utils import rag_executor, MXBAI_STORE_NONGRAPH\n",
    "\n",
    "start = time.time()\n",
    "QUESTION = \"Wat is de franchise, welk artikel gebruik je ervoor en wat zijn uitzonderingen op de wettelijke waarde? Hou het antwoord onder de 50 woorden.\"\n",
    "answer,top_docs,qa_chain,performance_cache = rag_executor(QUESTION,store = MXBAI_STORE_NONGRAPH)\n",
    "print(\"Q:\", QUESTION)\n",
    "print(\"A:\", answer)\n",
    "print(f\"\\n--- Top {len(top_docs)} documents ---\")\n",
    "for i,doc in enumerate(top_docs):\n",
    "    print(f\"{i+1}.\",f\"{textwrap.shorten(str(doc.page_content),150)}\")\n",
    "\n",
    "print(f\"\\n--- Performance ---\")\n",
    "in_tokens = performance_cache[\"in_tokens\"]\n",
    "out_tokens = performance_cache[\"out_tokens\"]\n",
    "elapsed = performance_cache[\"elapsed\"]\n",
    "print(json.dumps(llm_metrics(\"RAG op wetsartikelen\", in_tokens, out_tokens, elapsed),indent=2))"
   ]
  },
  {
   "cell_type": "markdown",
   "id": "c5c70f58",
   "metadata": {},
   "source": [
    "#### Much faster and accurate compared to the methods in Section 2.1 or 2.2."
   ]
  },
  {
   "cell_type": "markdown",
   "id": "ac8d4a49",
   "metadata": {},
   "source": [
    "## 5. Graph RAG, taking advantage of linked data structure for RAG."
   ]
  },
  {
   "cell_type": "markdown",
   "id": "8831d282",
   "metadata": {},
   "source": [
    "### 5.1. Law graph (created beforehand)."
   ]
  },
  {
   "cell_type": "code",
   "execution_count": 11,
   "id": "3c688dc4",
   "metadata": {},
   "outputs": [],
   "source": [
    "#TODO: Placeholder, visualize graph."
   ]
  },
  {
   "cell_type": "markdown",
   "id": "0ca18065",
   "metadata": {},
   "source": [
    "### 5.2. Graph-based vector store."
   ]
  },
  {
   "cell_type": "code",
   "execution_count": 12,
   "id": "f2605c15",
   "metadata": {},
   "outputs": [],
   "source": [
    "#TODO: Placeholder, create vector stores."
   ]
  },
  {
   "cell_type": "code",
   "execution_count": 13,
   "id": "691a423d",
   "metadata": {},
   "outputs": [],
   "source": [
    "#TODO: Placeholder, display top 5 articles based on a query."
   ]
  },
  {
   "cell_type": "markdown",
   "id": "abf3321d",
   "metadata": {},
   "source": [
    "### 5.3. Questions across articles."
   ]
  },
  {
   "cell_type": "code",
   "execution_count": 14,
   "id": "b372a125",
   "metadata": {},
   "outputs": [],
   "source": [
    "#TODO: Graph RAG demonstration."
   ]
  },
  {
   "cell_type": "markdown",
   "id": "fb3808b3",
   "metadata": {},
   "source": [
    "## 6. Wrap‑up / Key takeaways ✅  \n",
    "\n",
    "* **Direct prompting** on entire laws is cost‑heavy and hits context limits.  \n",
    "* **Chunking** improves alignment but sacrifices latency.  \n",
    "* **RAG** with a high‑quality embedding model (MXBAI) gives the *best accuracy‑per‑dollar*.  \n",
    "* Integrating domain‑specific knowledge graphs can further boost recall for cross‑article references.  \n",
    "\n",
    "Feel free to extend the notebook by  \n",
    "* replacing placeholder accuracies with manual grading,  \n",
    "* adding caching for embeddings,  \n",
    "* deploying the FAISS index as an API.  \n"
   ]
  }
 ],
 "metadata": {
  "kernelspec": {
   "display_name": ".venv",
   "language": "python",
   "name": "python3"
  },
  "language_info": {
   "codemirror_mode": {
    "name": "ipython",
    "version": 3
   },
   "file_extension": ".py",
   "mimetype": "text/x-python",
   "name": "python",
   "nbconvert_exporter": "python",
   "pygments_lexer": "ipython3",
   "version": "3.12.6"
  }
 },
 "nbformat": 4,
 "nbformat_minor": 5
}
